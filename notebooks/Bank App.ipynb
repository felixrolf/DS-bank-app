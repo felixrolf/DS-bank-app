{
 "cells": [
  {
   "cell_type": "code",
   "execution_count": 370,
   "metadata": {},
   "outputs": [],
   "source": [
    "from app import Bank"
   ]
  },
  {
   "cell_type": "code",
   "execution_count": 371,
   "metadata": {},
   "outputs": [
    {
     "name": "stdout",
     "output_type": "stream",
     "text": [
      "The autoreload extension is already loaded. To reload it, use:\n",
      "  %reload_ext autoreload\n"
     ]
    }
   ],
   "source": [
    "%load_ext autoreload\n",
    "%autoreload 2"
   ]
  },
  {
   "cell_type": "code",
   "execution_count": 372,
   "metadata": {},
   "outputs": [],
   "source": [
    "bank = Bank('Hannover_Bank')"
   ]
  },
  {
   "cell_type": "code",
   "execution_count": 373,
   "metadata": {},
   "outputs": [
    {
     "name": "stdout",
     "output_type": "stream",
     "text": [
      "Bank: Hannover_Bank\n",
      "Accounts: []\n",
      "Transactions: []\n"
     ]
    }
   ],
   "source": [
    "print(f'Bank: {bank.name}')\n",
    "print(f'Accounts: {bank.accounts}')\n",
    "print(f'Transactions: {bank.transactions}')"
   ]
  },
  {
   "cell_type": "code",
   "execution_count": 374,
   "metadata": {},
   "outputs": [],
   "source": [
    "marc = bank.open_account({'number': 1, 'firstname': 'Marc', 'lastname': 'Klages'})"
   ]
  },
  {
   "cell_type": "code",
   "execution_count": 375,
   "metadata": {},
   "outputs": [],
   "source": [
    "felix = bank.open_account({'number': 2, 'firstname': 'Felix', 'lastname': 'Rolf'})"
   ]
  },
  {
   "cell_type": "code",
   "execution_count": 376,
   "metadata": {},
   "outputs": [],
   "source": [
    "maren = bank.open_account({'number': 3, 'firstname': 'Maren', 'lastname': 'Rolf'})"
   ]
  },
  {
   "cell_type": "code",
   "execution_count": 377,
   "metadata": {},
   "outputs": [],
   "source": [
    "anke = bank.open_account({'number': 4, 'firstname': 'Anke', 'lastname': 'Rolf'})"
   ]
  },
  {
   "cell_type": "code",
   "execution_count": 378,
   "metadata": {},
   "outputs": [
    {
     "data": {
      "text/plain": [
       "[{'number': 1, 'firstname': 'Marc', 'lastname': 'Klages'},\n",
       " {'number': 2, 'firstname': 'Felix', 'lastname': 'Rolf'},\n",
       " {'number': 3, 'firstname': 'Maren', 'lastname': 'Rolf'},\n",
       " {'number': 4, 'firstname': 'Anke', 'lastname': 'Rolf'}]"
      ]
     },
     "execution_count": 378,
     "metadata": {},
     "output_type": "execute_result"
    }
   ],
   "source": [
    "bank.accounts"
   ]
  },
  {
   "cell_type": "code",
   "execution_count": 379,
   "metadata": {},
   "outputs": [],
   "source": [
    "bank2=Bank('Hamburg_Bank')"
   ]
  },
  {
   "cell_type": "code",
   "execution_count": 380,
   "metadata": {},
   "outputs": [],
   "source": [
    "marilena = bank2.open_account({'number': 1, 'firstname': 'Marilena', 'lastname': 'Preuß'})"
   ]
  },
  {
   "cell_type": "code",
   "execution_count": 381,
   "metadata": {},
   "outputs": [],
   "source": [
    "john = bank2.open_account({'number': 2, 'firstname': 'John', 'lastname': 'Preuß'})"
   ]
  },
  {
   "cell_type": "code",
   "execution_count": 382,
   "metadata": {},
   "outputs": [],
   "source": [
    "kiken = bank2.open_account({'number': 3, 'firstname': 'Katharina', 'lastname': 'Iken'})"
   ]
  },
  {
   "cell_type": "code",
   "execution_count": 383,
   "metadata": {},
   "outputs": [
    {
     "data": {
      "text/plain": [
       "[{'number': 1, 'firstname': 'Marilena', 'lastname': 'Preuß'},\n",
       " {'number': 2, 'firstname': 'John', 'lastname': 'Preuß'},\n",
       " {'number': 3, 'firstname': 'Katharina', 'lastname': 'Iken'}]"
      ]
     },
     "execution_count": 383,
     "metadata": {},
     "output_type": "execute_result"
    }
   ],
   "source": [
    "bank2.accounts"
   ]
  },
  {
   "cell_type": "code",
   "execution_count": 384,
   "metadata": {},
   "outputs": [
    {
     "data": {
      "text/plain": [
       "{'sender': {'number': 1, 'firstname': 'Marc', 'lastname': 'Klages'},\n",
       " 'recipient': {'number': 2, 'firstname': 'Felix', 'lastname': 'Rolf'},\n",
       " 'subject': 'Seed_Invest',\n",
       " 'amount': 100000}"
      ]
     },
     "execution_count": 384,
     "metadata": {},
     "output_type": "execute_result"
    }
   ],
   "source": [
    "bank.add_transaction(sender= marc, recipient= felix, subject= 'Seed_Invest', amount= 100000)"
   ]
  },
  {
   "cell_type": "code",
   "execution_count": 385,
   "metadata": {},
   "outputs": [
    {
     "data": {
      "text/plain": [
       "{'sender': {'number': 4, 'firstname': 'Anke', 'lastname': 'Rolf'},\n",
       " 'recipient': {'number': 3, 'firstname': 'Maren', 'lastname': 'Rolf'},\n",
       " 'subject': 'Bücher',\n",
       " 'amount': 100}"
      ]
     },
     "execution_count": 385,
     "metadata": {},
     "output_type": "execute_result"
    }
   ],
   "source": [
    "bank.add_transaction(sender= anke, recipient= maren, subject= 'Bücher', amount= 100)"
   ]
  },
  {
   "cell_type": "code",
   "execution_count": 386,
   "metadata": {},
   "outputs": [
    {
     "data": {
      "text/plain": [
       "{'sender': {'number': 2, 'firstname': 'Felix', 'lastname': 'Rolf'},\n",
       " 'recipient': {'number': 4, 'firstname': 'Anke', 'lastname': 'Rolf'},\n",
       " 'subject': 'Schuhe',\n",
       " 'amount': 150}"
      ]
     },
     "execution_count": 386,
     "metadata": {},
     "output_type": "execute_result"
    }
   ],
   "source": [
    "bank.add_transaction(sender= felix, recipient= anke, subject= 'Schuhe', amount= 150)"
   ]
  },
  {
   "cell_type": "code",
   "execution_count": 387,
   "metadata": {},
   "outputs": [
    {
     "data": {
      "text/plain": [
       "[{'sender': {'number': 1, 'firstname': 'Marc', 'lastname': 'Klages'},\n",
       "  'recipient': {'number': 2, 'firstname': 'Felix', 'lastname': 'Rolf'},\n",
       "  'subject': 'Seed_Invest',\n",
       "  'amount': 100000},\n",
       " {'sender': {'number': 4, 'firstname': 'Anke', 'lastname': 'Rolf'},\n",
       "  'recipient': {'number': 3, 'firstname': 'Maren', 'lastname': 'Rolf'},\n",
       "  'subject': 'Bücher',\n",
       "  'amount': 100},\n",
       " {'sender': {'number': 2, 'firstname': 'Felix', 'lastname': 'Rolf'},\n",
       "  'recipient': {'number': 4, 'firstname': 'Anke', 'lastname': 'Rolf'},\n",
       "  'subject': 'Schuhe',\n",
       "  'amount': 150}]"
      ]
     },
     "execution_count": 387,
     "metadata": {},
     "output_type": "execute_result"
    }
   ],
   "source": [
    "bank.transactions"
   ]
  },
  {
   "cell_type": "code",
   "execution_count": 417,
   "metadata": {},
   "outputs": [],
   "source": [
    "bank3=Bank('Harsum_Bank')"
   ]
  },
  {
   "cell_type": "code",
   "execution_count": null,
   "metadata": {},
   "outputs": [],
   "source": []
  },
  {
   "cell_type": "code",
   "execution_count": null,
   "metadata": {},
   "outputs": [],
   "source": []
  },
  {
   "cell_type": "code",
   "execution_count": 418,
   "metadata": {},
   "outputs": [],
   "source": [
    "persons = [{'number':1, 'firstname': 'Franz-Joseph', 'lastname': 'Bode'}, \n",
    "            {'number':2, 'firstname': 'Kristina', 'lastname': 'Steinmann'}, \n",
    "            {'number':3, 'firstname': 'Conrad', 'lastname': 'Steinmann'}]"
   ]
  },
  {
   "cell_type": "code",
   "execution_count": 419,
   "metadata": {},
   "outputs": [],
   "source": [
    "accounts = {}\n",
    "for item in persons:\n",
    "    accounts[item['firstname']] = bank3.open_account(item)"
   ]
  },
  {
   "cell_type": "code",
   "execution_count": 423,
   "metadata": {},
   "outputs": [
    {
     "ename": "NameError",
     "evalue": "name 'Franz' is not defined",
     "output_type": "error",
     "traceback": [
      "\u001b[0;31m---------------------------------------------------------------------------\u001b[0m",
      "\u001b[0;31mNameError\u001b[0m                                 Traceback (most recent call last)",
      "\u001b[0;32m<ipython-input-423-fb4097b53c87>\u001b[0m in \u001b[0;36m<module>\u001b[0;34m\u001b[0m\n\u001b[0;32m----> 1\u001b[0;31m \u001b[0mFranz\u001b[0m\u001b[0;34m-\u001b[0m\u001b[0mJoseph\u001b[0m\u001b[0;34m\u001b[0m\u001b[0;34m\u001b[0m\u001b[0m\n\u001b[0m",
      "\u001b[0;31mNameError\u001b[0m: name 'Franz' is not defined"
     ]
    }
   ],
   "source": [
    "accounts['Franz-Joseph']"
   ]
  },
  {
   "cell_type": "code",
   "execution_count": 415,
   "metadata": {},
   "outputs": [
    {
     "data": {
      "text/plain": [
       "[{'number': 1, 'firstname': 'Franz-Joseph', 'lastname': 'Bode'},\n",
       " {'number': 2, 'firstname': 'Kristina', 'lastname': 'Steinmann'},\n",
       " {'number': 3, 'firstname': 'Conrad', 'lastname': 'Steinmann'}]"
      ]
     },
     "execution_count": 415,
     "metadata": {},
     "output_type": "execute_result"
    }
   ],
   "source": [
    "bank3.accounts"
   ]
  },
  {
   "cell_type": "code",
   "execution_count": 424,
   "metadata": {},
   "outputs": [
    {
     "data": {
      "text/plain": [
       "{'sender': {'number': 1, 'firstname': 'Franz-Joseph', 'lastname': 'Bode'},\n",
       " 'recipient': {'number': 2, 'firstname': 'Kristina', 'lastname': 'Steinmann'},\n",
       " 'subject': 'Bücher',\n",
       " 'amount': 100}"
      ]
     },
     "execution_count": 424,
     "metadata": {},
     "output_type": "execute_result"
    }
   ],
   "source": [
    "bank3.add_transaction(sender= accounts['Franz-Joseph'], recipient= accounts['Kristina'], subject= 'Bücher', amount= 100)"
   ]
  },
  {
   "cell_type": "code",
   "execution_count": null,
   "metadata": {},
   "outputs": [],
   "source": []
  },
  {
   "cell_type": "code",
   "execution_count": null,
   "metadata": {},
   "outputs": [],
   "source": []
  },
  {
   "cell_type": "code",
   "execution_count": null,
   "metadata": {},
   "outputs": [],
   "source": []
  },
  {
   "cell_type": "code",
   "execution_count": null,
   "metadata": {},
   "outputs": [],
   "source": []
  },
  {
   "cell_type": "markdown",
   "metadata": {},
   "source": [
    "complex"
   ]
  },
  {
   "cell_type": "code",
   "execution_count": 398,
   "metadata": {},
   "outputs": [
    {
     "data": {
      "text/plain": [
       "0j"
      ]
     },
     "execution_count": 398,
     "metadata": {},
     "output_type": "execute_result"
    }
   ],
   "source": [
    "complex()"
   ]
  },
  {
   "cell_type": "code",
   "execution_count": 399,
   "metadata": {},
   "outputs": [
    {
     "data": {
      "text/plain": [
       "[{'number': 1, 'firstname': 'Marc', 'lastname': 'Klages'},\n",
       " {'number': 2, 'firstname': 'Felix', 'lastname': 'Rolf'},\n",
       " {'number': 3, 'firstname': 'Maren', 'lastname': 'Rolf'},\n",
       " {'number': 4, 'firstname': 'Anke', 'lastname': 'Rolf'}]"
      ]
     },
     "execution_count": 399,
     "metadata": {},
     "output_type": "execute_result"
    }
   ],
   "source": [
    "bank.accounts"
   ]
  },
  {
   "cell_type": "code",
   "execution_count": 400,
   "metadata": {},
   "outputs": [
    {
     "data": {
      "text/plain": [
       "[{'number': 1, 'firstname': 'Marilena', 'lastname': 'Preuß'},\n",
       " {'number': 2, 'firstname': 'John', 'lastname': 'Preuß'},\n",
       " {'number': 3, 'firstname': 'Katharina', 'lastname': 'Iken'}]"
      ]
     },
     "execution_count": 400,
     "metadata": {},
     "output_type": "execute_result"
    }
   ],
   "source": [
    "bank2.accounts"
   ]
  },
  {
   "cell_type": "code",
   "execution_count": 401,
   "metadata": {},
   "outputs": [
    {
     "data": {
      "text/plain": [
       "[[{'number': 1, 'firstname': 'Franz-Joseph', 'lastname': 'Bode'},\n",
       "  {'number': 2, 'firstname': 'Kristina', 'lastname': 'Steinmann'},\n",
       "  {'number': 3, 'firstname': 'Conrad', 'lastname': 'Steinmann'}]]"
      ]
     },
     "execution_count": 401,
     "metadata": {},
     "output_type": "execute_result"
    }
   ],
   "source": [
    "bank3.accounts"
   ]
  },
  {
   "cell_type": "code",
   "execution_count": 403,
   "metadata": {},
   "outputs": [
    {
     "data": {
      "text/plain": [
       "[{'sender': {'number': 1, 'firstname': 'Marc', 'lastname': 'Klages'},\n",
       "  'recipient': {'number': 2, 'firstname': 'Felix', 'lastname': 'Rolf'},\n",
       "  'subject': 'Seed_Invest',\n",
       "  'amount': 100000},\n",
       " {'sender': {'number': 4, 'firstname': 'Anke', 'lastname': 'Rolf'},\n",
       "  'recipient': {'number': 3, 'firstname': 'Maren', 'lastname': 'Rolf'},\n",
       "  'subject': 'Bücher',\n",
       "  'amount': 100},\n",
       " {'sender': {'number': 2, 'firstname': 'Felix', 'lastname': 'Rolf'},\n",
       "  'recipient': {'number': 4, 'firstname': 'Anke', 'lastname': 'Rolf'},\n",
       "  'subject': 'Schuhe',\n",
       "  'amount': 150}]"
      ]
     },
     "execution_count": 403,
     "metadata": {},
     "output_type": "execute_result"
    }
   ],
   "source": [
    "bank.transactions"
   ]
  },
  {
   "cell_type": "code",
   "execution_count": 441,
   "metadata": {},
   "outputs": [
    {
     "ename": "SyntaxError",
     "evalue": "invalid syntax (<ipython-input-441-6f93d73c76fe>, line 1)",
     "output_type": "error",
     "traceback": [
      "\u001b[0;36m  File \u001b[0;32m\"<ipython-input-441-6f93d73c76fe>\"\u001b[0;36m, line \u001b[0;32m1\u001b[0m\n\u001b[0;31m    for bank.transactions sum(transactions)\u001b[0m\n\u001b[0m                            ^\u001b[0m\n\u001b[0;31mSyntaxError\u001b[0m\u001b[0;31m:\u001b[0m invalid syntax\n"
     ]
    }
   ],
   "source": [
    "for bank.transactions sum(transactions)"
   ]
  },
  {
   "cell_type": "code",
   "execution_count": 404,
   "metadata": {},
   "outputs": [
    {
     "data": {
      "text/plain": [
       "[]"
      ]
     },
     "execution_count": 404,
     "metadata": {},
     "output_type": "execute_result"
    }
   ],
   "source": [
    "bank2.transactions"
   ]
  },
  {
   "cell_type": "code",
   "execution_count": 405,
   "metadata": {},
   "outputs": [
    {
     "data": {
      "text/plain": [
       "[]"
      ]
     },
     "execution_count": 405,
     "metadata": {},
     "output_type": "execute_result"
    }
   ],
   "source": [
    "bank3.transactions"
   ]
  },
  {
   "cell_type": "code",
   "execution_count": 430,
   "metadata": {},
   "outputs": [],
   "source": [
    "bank4=Bank('Future_of_Investing')"
   ]
  },
  {
   "cell_type": "code",
   "execution_count": 431,
   "metadata": {},
   "outputs": [],
   "source": [
    "premium_clients = [{'number':1, 'firstname':'Angela', 'lastname':'Merkel'},\n",
    "                  {'number':2, 'firstname':'Wolfgang', 'lastname':'Schäuble'},\n",
    "                  {'number':3, 'firstname':'Christian', 'lastname':'Lindner'}]"
   ]
  },
  {
   "cell_type": "code",
   "execution_count": 432,
   "metadata": {},
   "outputs": [],
   "source": [
    "accounts = {}\n",
    "for item in premium_clients:\n",
    "    accounts[item['firstname']] = bank4.open_account(item)"
   ]
  },
  {
   "cell_type": "code",
   "execution_count": 434,
   "metadata": {},
   "outputs": [
    {
     "data": {
      "text/plain": [
       "{'number': 1, 'firstname': 'Angela', 'lastname': 'Merkel'}"
      ]
     },
     "execution_count": 434,
     "metadata": {},
     "output_type": "execute_result"
    }
   ],
   "source": [
    "accounts['Angela']"
   ]
  },
  {
   "cell_type": "code",
   "execution_count": 435,
   "metadata": {},
   "outputs": [
    {
     "data": {
      "text/plain": [
       "{'sender': {'number': 1, 'firstname': 'Angela', 'lastname': 'Merkel'},\n",
       " 'recipient': {'number': 3, 'firstname': 'Christian', 'lastname': 'Lindner'},\n",
       " 'subject': 'Schmiergeld',\n",
       " 'amount': 100}"
      ]
     },
     "execution_count": 435,
     "metadata": {},
     "output_type": "execute_result"
    }
   ],
   "source": [
    "bank4.add_transaction(sender= accounts['Angela'], recipient= accounts['Christian'], subject= 'Schmiergeld', amount= 100)"
   ]
  },
  {
   "cell_type": "code",
   "execution_count": null,
   "metadata": {},
   "outputs": [],
   "source": []
  }
 ],
 "metadata": {
  "kernelspec": {
   "display_name": "Python 3",
   "language": "python",
   "name": "python3"
  },
  "language_info": {
   "codemirror_mode": {
    "name": "ipython",
    "version": 3
   },
   "file_extension": ".py",
   "mimetype": "text/x-python",
   "name": "python",
   "nbconvert_exporter": "python",
   "pygments_lexer": "ipython3",
   "version": "3.6.8"
  }
 },
 "nbformat": 4,
 "nbformat_minor": 2
}
