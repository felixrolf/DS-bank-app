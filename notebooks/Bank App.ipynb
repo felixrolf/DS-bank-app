{
 "cells": [
  {
   "cell_type": "code",
   "execution_count": 79,
   "metadata": {},
   "outputs": [
    {
     "name": "stdout",
     "output_type": "stream",
     "text": [
      "The autoreload extension is already loaded. To reload it, use:\n",
      "  %reload_ext autoreload\n"
     ]
    }
   ],
   "source": [
    "%load_ext autoreload\n",
    "%autoreload 2"
   ]
  },
  {
   "cell_type": "code",
   "execution_count": 80,
   "metadata": {},
   "outputs": [
    {
     "name": "stdout",
     "output_type": "stream",
     "text": [
      "2019-02-07 17:22:22\n"
     ]
    }
   ],
   "source": [
    "from app import Bank, Account, Transaction\n",
    "from time import time\n",
    "from datetime import datetime\n",
    "import datetime\n",
    "import time\n",
    "ts = time.time()\n",
    "st = datetime.datetime.fromtimestamp(ts).strftime('%Y-%m-%d %H:%M:%S')\n",
    "print (st)"
   ]
  },
  {
   "cell_type": "code",
   "execution_count": 81,
   "metadata": {},
   "outputs": [
    {
     "name": "stdout",
     "output_type": "stream",
     "text": [
      "Hello customer! You are entering GLS. Please wait a few seconds...\n",
      "-- Loading completed --\n",
      "\n",
      "Press [1] for Add Account\n",
      "Press [2] for Add Transaction\n"
     ]
    }
   ],
   "source": [
    "bank = Bank('GLS')"
   ]
  },
  {
   "cell_type": "code",
   "execution_count": 82,
   "metadata": {},
   "outputs": [
    {
     "name": "stdout",
     "output_type": "stream",
     "text": [
      "Choose your option 1\n"
     ]
    }
   ],
   "source": [
    "Choice = input('Choose your option ')"
   ]
  },
  {
   "cell_type": "code",
   "execution_count": 83,
   "metadata": {},
   "outputs": [
    {
     "data": {
      "text/plain": [
       "<app.account.Account at 0x10ab8d8d0>"
      ]
     },
     "execution_count": 83,
     "metadata": {},
     "output_type": "execute_result"
    }
   ],
   "source": [
    "Tim = Account(firstname= 'Tim',lastname= 'Viergutz',number= 1,balance= 2000.0)\n",
    "bank.open_account(Tim)\n",
    "Felix = Account(firstname= 'Felix',lastname= 'Rolf',number= 2,balance= 1000.0)\n",
    "bank.open_account(Felix)\n",
    "Kiran = Account(firstname= 'Kiran',lastname= 'Gill',number= 3,balance= 5000.0)\n",
    "bank.open_account(Kiran)"
   ]
  },
  {
   "cell_type": "code",
   "execution_count": 84,
   "metadata": {},
   "outputs": [
    {
     "data": {
      "text/plain": [
       "{1: <app.account.Account at 0x10ab8d828>,\n",
       " 2: <app.account.Account at 0x10ab8d898>,\n",
       " 3: <app.account.Account at 0x10ab8d8d0>}"
      ]
     },
     "execution_count": 84,
     "metadata": {},
     "output_type": "execute_result"
    }
   ],
   "source": [
    "bank.accounts"
   ]
  },
  {
   "cell_type": "code",
   "execution_count": 85,
   "metadata": {},
   "outputs": [
    {
     "name": "stdout",
     "output_type": "stream",
     "text": [
      "Choose your option 2\n"
     ]
    }
   ],
   "source": [
    "Choice_2 = input('Choose your option ')"
   ]
  },
  {
   "cell_type": "code",
   "execution_count": 115,
   "metadata": {},
   "outputs": [],
   "source": [
    "transaction_1 = bank.add_transaction(sender=Tim, recipient=Felix, subject='Abendessen', amount=100.0)"
   ]
  },
  {
   "cell_type": "code",
   "execution_count": 116,
   "metadata": {},
   "outputs": [],
   "source": [
    "transaction_2 = bank.add_transaction(sender=Felix, recipient=Tim, subject='Frühstück', amount=50.0)"
   ]
  },
  {
   "cell_type": "code",
   "execution_count": 117,
   "metadata": {},
   "outputs": [],
   "source": [
    "transaction_3 = bank.add_transaction(sender=Kiran, recipient=Tim, subject='Lunch', amount=100.0)"
   ]
  },
  {
   "cell_type": "code",
   "execution_count": 118,
   "metadata": {},
   "outputs": [
    {
     "name": "stdout",
     "output_type": "stream",
     "text": [
      "Bank GLS\n",
      "<app.transaction.Transaction object at 0x10ab81828>\n",
      "<app.transaction.Transaction object at 0x10ab81358>\n",
      "<app.transaction.Transaction object at 0x10ab81940>\n"
     ]
    }
   ],
   "source": [
    "print(f'Bank {bank.name}')\n",
    "print(transaction_1)\n",
    "print(transaction_2)\n",
    "print(transaction_3)"
   ]
  },
  {
   "cell_type": "code",
   "execution_count": 119,
   "metadata": {},
   "outputs": [
    {
     "name": "stdout",
     "output_type": "stream",
     "text": [
      "4600.0\n",
      "1200.0\n",
      "2200.0\n"
     ]
    }
   ],
   "source": [
    "print(Kiran.balance)\n",
    "print(Felix.balance)\n",
    "print(Tim.balance)"
   ]
  },
  {
   "cell_type": "code",
   "execution_count": 120,
   "metadata": {},
   "outputs": [
    {
     "name": "stdout",
     "output_type": "stream",
     "text": [
      "<app.transaction.Transaction object at 0x10ab81828>\n"
     ]
    }
   ],
   "source": [
    "print(transaction_1)"
   ]
  },
  {
   "cell_type": "code",
   "execution_count": 121,
   "metadata": {},
   "outputs": [
    {
     "name": "stdout",
     "output_type": "stream",
     "text": [
      "DATE 2019-02-07 17:38:49 From 1 to 2: Abendessen - 100.0 €\n",
      "DATE 2019-02-07 17:38:50 From 2 to 1: Frühstück - 50.0 €\n",
      "DATE 2019-02-07 17:38:50 From 3 to 1: Lunch - 100.0 €\n"
     ]
    }
   ],
   "source": [
    "print(transaction_1.info())\n",
    "print(transaction_2.info())\n",
    "print(transaction_3.info())"
   ]
  },
  {
   "cell_type": "code",
   "execution_count": null,
   "metadata": {},
   "outputs": [],
   "source": []
  }
 ],
 "metadata": {
  "kernelspec": {
   "display_name": "Python 3",
   "language": "python",
   "name": "python3"
  },
  "language_info": {
   "codemirror_mode": {
    "name": "ipython",
    "version": 3
   },
   "file_extension": ".py",
   "mimetype": "text/x-python",
   "name": "python",
   "nbconvert_exporter": "python",
   "pygments_lexer": "ipython3",
   "version": "3.6.8"
  }
 },
 "nbformat": 4,
 "nbformat_minor": 2
}
