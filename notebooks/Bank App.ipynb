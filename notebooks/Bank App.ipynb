{
 "cells": [
  {
   "cell_type": "code",
   "execution_count": 125,
   "metadata": {},
   "outputs": [
    {
     "name": "stdout",
     "output_type": "stream",
     "text": [
      "The autoreload extension is already loaded. To reload it, use:\n",
      "  %reload_ext autoreload\n"
     ]
    }
   ],
   "source": [
    "%load_ext autoreload\n",
    "%autoreload 2"
   ]
  },
  {
   "cell_type": "code",
   "execution_count": 126,
   "metadata": {},
   "outputs": [
    {
     "name": "stdout",
     "output_type": "stream",
     "text": [
      "2019-02-07 17:56:52\n"
     ]
    }
   ],
   "source": [
    "from app import Bank, Account, Transaction\n",
    "from time import time\n",
    "from datetime import datetime\n",
    "import datetime\n",
    "import time\n",
    "ts = time.time()\n",
    "st = datetime.datetime.fromtimestamp(ts).strftime('%Y-%m-%d %H:%M:%S')\n",
    "print (st)"
   ]
  },
  {
   "cell_type": "code",
   "execution_count": 127,
   "metadata": {},
   "outputs": [
    {
     "name": "stdout",
     "output_type": "stream",
     "text": [
      "Hello customer! You are entering GLS. Please wait a few seconds...\n",
      "-- Loading completed --\n",
      "\n",
      "Press [1] for Add Account\n",
      "Press [2] for Add Transaction\n"
     ]
    }
   ],
   "source": [
    "bank = Bank('GLS')"
   ]
  },
  {
   "cell_type": "code",
   "execution_count": 128,
   "metadata": {},
   "outputs": [
    {
     "name": "stdout",
     "output_type": "stream",
     "text": [
      "Choose your option 1\n"
     ]
    }
   ],
   "source": [
    "Choice = input('Choose your option ')"
   ]
  },
  {
   "cell_type": "code",
   "execution_count": 129,
   "metadata": {},
   "outputs": [
    {
     "data": {
      "text/plain": [
       "<app.account.Account at 0x10ab81b00>"
      ]
     },
     "execution_count": 129,
     "metadata": {},
     "output_type": "execute_result"
    }
   ],
   "source": [
    "Tim = Account(firstname= 'Tim',lastname= 'Viergutz',number= 1,balance= 2000.0)\n",
    "bank.open_account(Tim)\n",
    "Felix = Account(firstname= 'Felix',lastname= 'Rolf',number= 2,balance= 1000.0)\n",
    "bank.open_account(Felix)\n",
    "Kiran = Account(firstname= 'Kiran',lastname= 'Gill',number= 3,balance= 5000.0)\n",
    "bank.open_account(Kiran)"
   ]
  },
  {
   "cell_type": "code",
   "execution_count": 130,
   "metadata": {},
   "outputs": [
    {
     "data": {
      "text/plain": [
       "{1: <app.account.Account at 0x10ab81390>,\n",
       " 2: <app.account.Account at 0x10ab81b70>,\n",
       " 3: <app.account.Account at 0x10ab81b00>}"
      ]
     },
     "execution_count": 130,
     "metadata": {},
     "output_type": "execute_result"
    }
   ],
   "source": [
    "bank.accounts"
   ]
  },
  {
   "cell_type": "code",
   "execution_count": 131,
   "metadata": {},
   "outputs": [
    {
     "name": "stdout",
     "output_type": "stream",
     "text": [
      "Choose your option 2\n"
     ]
    }
   ],
   "source": [
    "Choice_2 = input('Choose your option ')"
   ]
  },
  {
   "cell_type": "code",
   "execution_count": 132,
   "metadata": {},
   "outputs": [],
   "source": [
    "transaction_1 = bank.add_transaction(sender=Tim, recipient=Felix, subject='Abendessen', amount=100.0)"
   ]
  },
  {
   "cell_type": "code",
   "execution_count": 133,
   "metadata": {},
   "outputs": [],
   "source": [
    "transaction_2 = bank.add_transaction(sender=Felix, recipient=Tim, subject='Frühstück', amount=50.0)"
   ]
  },
  {
   "cell_type": "code",
   "execution_count": 134,
   "metadata": {},
   "outputs": [],
   "source": [
    "transaction_3 = bank.add_transaction(sender=Kiran, recipient=Tim, subject='Lunch', amount=100.0)"
   ]
  },
  {
   "cell_type": "code",
   "execution_count": 135,
   "metadata": {},
   "outputs": [
    {
     "name": "stdout",
     "output_type": "stream",
     "text": [
      "Bank GLS\n",
      "<app.transaction.Transaction object at 0x10ab670f0>\n",
      "<app.transaction.Transaction object at 0x10ab675c0>\n",
      "<app.transaction.Transaction object at 0x10ab81828>\n"
     ]
    }
   ],
   "source": [
    "print(f'Bank {bank.name}')\n",
    "print(transaction_1)\n",
    "print(transaction_2)\n",
    "print(transaction_3)"
   ]
  },
  {
   "cell_type": "code",
   "execution_count": 136,
   "metadata": {},
   "outputs": [
    {
     "name": "stdout",
     "output_type": "stream",
     "text": [
      "4900.0\n",
      "1050.0\n",
      "2050.0\n"
     ]
    }
   ],
   "source": [
    "print(Kiran.balance)\n",
    "print(Felix.balance)\n",
    "print(Tim.balance)"
   ]
  },
  {
   "cell_type": "code",
   "execution_count": 137,
   "metadata": {},
   "outputs": [
    {
     "name": "stdout",
     "output_type": "stream",
     "text": [
      "<app.transaction.Transaction object at 0x10ab670f0>\n"
     ]
    }
   ],
   "source": [
    "print(transaction_1)"
   ]
  },
  {
   "cell_type": "code",
   "execution_count": 138,
   "metadata": {},
   "outputs": [
    {
     "name": "stdout",
     "output_type": "stream",
     "text": [
      "DATE 2019-02-07 17:56:59 From 1 to 2: Abendessen - 100.0 €\n",
      "DATE 2019-02-07 17:56:59 From 2 to 1: Frühstück - 50.0 €\n",
      "DATE 2019-02-07 17:56:59 From 3 to 1: Lunch - 100.0 €\n"
     ]
    }
   ],
   "source": [
    "print(transaction_1.info())\n",
    "print(transaction_2.info())\n",
    "print(transaction_3.info())"
   ]
  },
  {
   "cell_type": "code",
   "execution_count": 140,
   "metadata": {},
   "outputs": [
    {
     "ename": "NameError",
     "evalue": "name 'print_statement' is not defined",
     "output_type": "error",
     "traceback": [
      "\u001b[0;31m---------------------------------------------------------------------------\u001b[0m",
      "\u001b[0;31mNameError\u001b[0m                                 Traceback (most recent call last)",
      "\u001b[0;32m<ipython-input-140-dfbd2d809b3f>\u001b[0m in \u001b[0;36m<module>\u001b[0;34m\u001b[0m\n\u001b[0;32m----> 1\u001b[0;31m \u001b[0mprint_statement\u001b[0m\u001b[0;34m(\u001b[0m\u001b[0mFelix\u001b[0m\u001b[0;34m)\u001b[0m\u001b[0;34m\u001b[0m\u001b[0;34m\u001b[0m\u001b[0m\n\u001b[0m",
      "\u001b[0;31mNameError\u001b[0m: name 'print_statement' is not defined"
     ]
    }
   ],
   "source": [
    "print_statement(Felix)"
   ]
  },
  {
   "cell_type": "code",
   "execution_count": null,
   "metadata": {},
   "outputs": [],
   "source": []
  }
 ],
 "metadata": {
  "kernelspec": {
   "display_name": "Python 3",
   "language": "python",
   "name": "python3"
  },
  "language_info": {
   "codemirror_mode": {
    "name": "ipython",
    "version": 3
   },
   "file_extension": ".py",
   "mimetype": "text/x-python",
   "name": "python",
   "nbconvert_exporter": "python",
   "pygments_lexer": "ipython3",
   "version": "3.6.8"
  }
 },
 "nbformat": 4,
 "nbformat_minor": 2
}
