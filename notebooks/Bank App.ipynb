{
 "cells": [
  {
   "cell_type": "code",
   "execution_count": null,
   "metadata": {},
   "outputs": [],
   "source": [
    "%load_ext autoreload\n",
    "%autoreload 2"
   ]
  },
  {
   "cell_type": "code",
   "execution_count": null,
   "metadata": {},
   "outputs": [],
   "source": [
    "from app import Bank, Account, Transaction\n",
    "from time import time\n",
    "from datetime import datetime\n",
    "import datetime\n",
    "import time\n",
    "ts = time.time()\n",
    "st = datetime.datetime.fromtimestamp(ts).strftime('%Y-%m-%d %H:%M:%S')\n",
    "print (st)"
   ]
  },
  {
   "cell_type": "code",
   "execution_count": null,
   "metadata": {},
   "outputs": [],
   "source": [
    "bank = Bank('GLS')"
   ]
  },
  {
   "cell_type": "code",
   "execution_count": null,
   "metadata": {},
   "outputs": [],
   "source": [
    "Choice_1 = input('Choose your option ')"
   ]
  },
  {
   "cell_type": "code",
   "execution_count": null,
   "metadata": {},
   "outputs": [],
   "source": [
    "Tim = Account(firstname= 'Tim',lastname= 'Viergutz',number= 1,balance= 2000.0)\n",
    "bank.open_account(Tim)\n",
    "Felix = Account(firstname= 'Felix',lastname= 'Rolf',number= 2,balance= 1000.0)\n",
    "bank.open_account(Felix)\n",
    "Kiran = Account(firstname= 'Kiran',lastname= 'Gill',number= 3,balance= 5000.0)\n",
    "bank.open_account(Kiran)"
   ]
  },
  {
   "cell_type": "code",
   "execution_count": null,
   "metadata": {},
   "outputs": [],
   "source": [
    "bank.accounts"
   ]
  },
  {
   "cell_type": "code",
   "execution_count": null,
   "metadata": {},
   "outputs": [],
   "source": [
    "Choice_2 = input('Choose your option ')"
   ]
  },
  {
   "cell_type": "code",
   "execution_count": null,
   "metadata": {},
   "outputs": [],
   "source": [
    "transaction_1 = bank.add_transaction(sender=Tim, recipient=Felix, subject='Abendessen', amount=100.0)"
   ]
  },
  {
   "cell_type": "code",
   "execution_count": null,
   "metadata": {},
   "outputs": [],
   "source": [
    "transaction_2 = bank.add_transaction(sender=Felix, recipient=Tim, subject='Frühstück', amount=50.0)"
   ]
  },
  {
   "cell_type": "code",
   "execution_count": null,
   "metadata": {},
   "outputs": [],
   "source": [
    "transaction_3 = bank.add_transaction(sender=Kiran, recipient=Tim, subject='Lunch', amount=100.0)"
   ]
  },
  {
   "cell_type": "code",
   "execution_count": null,
   "metadata": {},
   "outputs": [],
   "source": [
    "print(f'Bank {bank.name}')\n",
    "print(transaction_1)\n",
    "print(transaction_2)\n",
    "print(transaction_3)"
   ]
  },
  {
   "cell_type": "code",
   "execution_count": null,
   "metadata": {},
   "outputs": [],
   "source": [
    "print(Kiran.balance)\n",
    "print(Felix.balance)\n",
    "print(Tim.balance)"
   ]
  },
  {
   "cell_type": "code",
   "execution_count": null,
   "metadata": {},
   "outputs": [],
   "source": [
    "print(transaction_1)"
   ]
  },
  {
   "cell_type": "code",
   "execution_count": null,
   "metadata": {},
   "outputs": [],
   "source": [
    "print(transaction_1.info())\n",
    "print(transaction_2.info())\n",
    "print(transaction_3.info())"
   ]
  },
  {
   "cell_type": "code",
   "execution_count": null,
   "metadata": {},
   "outputs": [],
   "source": [
    "now = datetime.datetime.today()\n",
    "print(now.year)\n",
    "print(now.month)\n",
    "print(now.day)\n",
    "print(now.hour)\n",
    "print(now.minute)"
   ]
  },
  {
   "cell_type": "code",
   "execution_count": null,
   "metadata": {},
   "outputs": [],
   "source": [
    "x = 2\n",
    ">>> x"
   ]
  },
  {
   "cell_type": "code",
   "execution_count": null,
   "metadata": {},
   "outputs": [],
   "source": [
    "vars(Transaction)"
   ]
  },
  {
   "cell_type": "code",
   "execution_count": null,
   "metadata": {},
   "outputs": [],
   "source": [
    "def my_function():\n",
    "    print(\"Hello, customer!\")\n",
    "\n",
    "my_function()"
   ]
  },
  {
   "cell_type": "code",
   "execution_count": null,
   "metadata": {},
   "outputs": [],
   "source": [
    "your_bank = \"Welcome to your favorite Bank ...\"\n",
    "\n",
    "def append_bankname (text):\n",
    "    text = text + \" GLS!\" \n",
    "    return text\n",
    "\n",
    "print(append_bankname(your_bank))"
   ]
  },
  {
   "cell_type": "code",
   "execution_count": null,
   "metadata": {},
   "outputs": [],
   "source": [
    "def banking_day (day):\n",
    "    if day == \"Monday\": #this is an if statement\n",
    "        return \"Where´s your tie?\"\n",
    "    if day == \"Friday\": #this is another if statement\n",
    "        return \"Today is casual Friday. Wear your Sneakers!\"\n",
    "    if day != \"Monday\" or \"Friday\": #this is an if statement with two options\n",
    "        return \"Drink your coffee.\"\n",
    "    \n",
    "print(banking_day(\"Monday\"))\n",
    "print(banking_day(\"Friday\"))\n",
    "print(banking_day(\"Tuesday\"))\n",
    "print(banking_day(\"Wednesday\"))"
   ]
  },
  {
   "cell_type": "code",
   "execution_count": null,
   "metadata": {},
   "outputs": [],
   "source": [
    "first_number = input('Enter the first number: ')\n",
    "second_number = input('Enter the second number: ')"
   ]
  },
  {
   "cell_type": "code",
   "execution_count": null,
   "metadata": {},
   "outputs": [],
   "source": [
    "with open('myfile.txt', 'w') as myfile:\n",
    "    print(\"Hello!\", file=myfile)"
   ]
  },
  {
   "cell_type": "code",
   "execution_count": null,
   "metadata": {},
   "outputs": [],
   "source": [
    "with open('myfile.txt', 'w') as myfile:\n",
    "    myfile.write(\"Hello!\")"
   ]
  },
  {
   "cell_type": "code",
   "execution_count": null,
   "metadata": {},
   "outputs": [],
   "source": [
    "with open('myfile.txt', 'r') as myfile:\n",
    "    data = myfile.read()"
   ]
  },
  {
   "cell_type": "code",
   "execution_count": null,
   "metadata": {},
   "outputs": [],
   "source": [
    "open(myfile.txt)"
   ]
  },
  {
   "cell_type": "code",
   "execution_count": null,
   "metadata": {},
   "outputs": [],
   "source": [
    "print(type(1))\n",
    "print(type(1.0))\n",
    "print(type(\"a\"))"
   ]
  },
  {
   "cell_type": "code",
   "execution_count": null,
   "metadata": {},
   "outputs": [],
   "source": [
    "print(3)\n",
    "# We can add two numbers together\n",
    "print(1 + 2)"
   ]
  },
  {
   "cell_type": "code",
   "execution_count": null,
   "metadata": {},
   "outputs": [],
   "source": [
    "print(\"My number is \" + '2') # Can’t combine a string and an integer directly, because Python is strongly typed."
   ]
  },
  {
   "cell_type": "code",
   "execution_count": null,
   "metadata": {},
   "outputs": [],
   "source": [
    "# str function converts things to strings.\n",
    "# Then we can concatenate two strings with +.\n",
    "print(\"My number is \" + str(3))\n",
    "\n",
    "# String formatting does the conversion for us.\n",
    "print(\"My number is %d\" % 3)"
   ]
  },
  {
   "cell_type": "code",
   "execution_count": null,
   "metadata": {},
   "outputs": [],
   "source": [
    "# all arithmetic operators other than ** are left-associative, so\n",
    "2 * 3 / 4"
   ]
  },
  {
   "cell_type": "code",
   "execution_count": null,
   "metadata": {},
   "outputs": [],
   "source": [
    "# is evaluated left to right:\n",
    "(2 * 3) / 4"
   ]
  },
  {
   "cell_type": "code",
   "execution_count": null,
   "metadata": {},
   "outputs": [],
   "source": [
    "# ** is right-associative, so\n",
    "2 ** 3 ** 4"
   ]
  },
  {
   "cell_type": "code",
   "execution_count": null,
   "metadata": {},
   "outputs": [],
   "source": [
    "# ** is right-associative, so\n",
    "3 ** 4"
   ]
  },
  {
   "cell_type": "code",
   "execution_count": null,
   "metadata": {
    "scrolled": true
   },
   "outputs": [],
   "source": [
    "2 ** 81"
   ]
  },
  {
   "cell_type": "code",
   "execution_count": null,
   "metadata": {},
   "outputs": [],
   "source": [
    "# is evaluated right to left:\n",
    "2 ** (3 ** 4)"
   ]
  },
  {
   "cell_type": "code",
   "execution_count": null,
   "metadata": {},
   "outputs": [],
   "source": [
    "#summary: use brackets even if they´re not compulsory"
   ]
  },
  {
   "cell_type": "code",
   "execution_count": null,
   "metadata": {},
   "outputs": [],
   "source": [
    "15 + 20 * 3"
   ]
  },
  {
   "cell_type": "code",
   "execution_count": null,
   "metadata": {},
   "outputs": [],
   "source": [
    "1//0"
   ]
  },
  {
   "cell_type": "code",
   "execution_count": null,
   "metadata": {},
   "outputs": [],
   "source": [
    "3.8e4"
   ]
  },
  {
   "cell_type": "code",
   "execution_count": null,
   "metadata": {},
   "outputs": [],
   "source": [
    "print(\"%.2f\" % 12.3456)"
   ]
  },
  {
   "cell_type": "code",
   "execution_count": null,
   "metadata": {},
   "outputs": [],
   "source": [
    "2**1023"
   ]
  },
  {
   "cell_type": "code",
   "execution_count": null,
   "metadata": {},
   "outputs": [],
   "source": [
    "a = -45\n",
    "b = 2\n",
    "c = 6\n",
    "d = 4\n",
    "formula_test = a+b*c**d\n",
    "print(formula_test)"
   ]
  },
  {
   "cell_type": "code",
   "execution_count": null,
   "metadata": {},
   "outputs": [],
   "source": [
    "def formula_text(self):\n",
    "    print('Ihr Guthaben beträgt ') + formula_test"
   ]
  },
  {
   "cell_type": "code",
   "execution_count": null,
   "metadata": {},
   "outputs": [],
   "source": [
    "print(formula_text)"
   ]
  },
  {
   "cell_type": "code",
   "execution_count": null,
   "metadata": {},
   "outputs": [],
   "source": [
    "name = \"Jane\"\n",
    "age = 23\n",
    "print(\"Hello! My name is \" + str(name))\n",
    "print(\"Hello! My name is \" + str(name) + \"and I am \" + str(age) + \"years old.\")"
   ]
  },
  {
   "cell_type": "code",
   "execution_count": null,
   "metadata": {},
   "outputs": [],
   "source": [
    "name = \"Jane\"\n",
    "age = 23\n",
    "university = \"Neue Fische\"\n",
    "job = \"Data Scientist\"\n",
    "company = \"Microsoft\"\n",
    "\n",
    "print(\"Hi, \\nmy name is %s and I am %d years old. \\nCurrently I work as a %s at %s. \\nI became a %s studying at %s.\\nCiao, Jane\" % (name, age, job, company, job, university))"
   ]
  },
  {
   "cell_type": "code",
   "execution_count": null,
   "metadata": {},
   "outputs": [],
   "source": [
    "#string enclosed in single quotes\n",
    "print(\"\\\"Hi! I'm Jane,\\\" she said.\")"
   ]
  },
  {
   "cell_type": "code",
   "execution_count": null,
   "metadata": {},
   "outputs": [],
   "source": [
    "print(\"\\\"Do you need more data?\\\", Jimmy asked.\")"
   ]
  },
  {
   "cell_type": "code",
   "execution_count": null,
   "metadata": {},
   "outputs": [],
   "source": [
    "name = \"Jane Smith\"\n",
    "\n",
    "# Find the length of a string with the built-in len function\n",
    "print(len(name))\n",
    "\n",
    "# Print the string converted to lowercase\n",
    "print(name.lower())\n",
    "# Print the original string\n",
    "print(name)"
   ]
  },
  {
   "cell_type": "code",
   "execution_count": null,
   "metadata": {},
   "outputs": [],
   "source": [
    "name = name(+'Martinez')\n",
    "print(name)"
   ]
  },
  {
   "cell_type": "code",
   "execution_count": null,
   "metadata": {},
   "outputs": [],
   "source": [
    "freund = \"John\"\n",
    "len(freund)"
   ]
  },
  {
   "cell_type": "code",
   "execution_count": null,
   "metadata": {},
   "outputs": [],
   "source": [
    "print(\"The name of \" + str(freund) + \" has \" + str(len(name)) + \" letters.\")"
   ]
  },
  {
   "cell_type": "code",
   "execution_count": null,
   "metadata": {},
   "outputs": [],
   "source": [
    "# Korrekte Verkettung von String und Formel\n",
    "a = 5\n",
    "b = 3\n",
    "c = 2\n",
    "total = a+b**c\n",
    "a_number = total + 3\n",
    "print(total)\n",
    "print(a_number)\n",
    "print('Das Ergebnis dieser Berechnung beträgt ' + str(a_number) +\".\")"
   ]
  },
  {
   "cell_type": "code",
   "execution_count": null,
   "metadata": {},
   "outputs": [],
   "source": [
    "a=b=c=d=0\n",
    "print(a)\n",
    "print(b)\n",
    "print(c)\n",
    "print(\"Hier beträgt d noch \" + str(d))\n",
    "d=3\n",
    "print(\"Durch Anpassung beträgt d nun \" +str(d))"
   ]
  },
  {
   "cell_type": "code",
   "execution_count": null,
   "metadata": {},
   "outputs": [],
   "source": [
    "a_b = 4\n",
    "\n",
    "def my_function_2():\n",
    "    print(a_b)\n",
    "\n",
    "my_function_2()"
   ]
  },
  {
   "cell_type": "code",
   "execution_count": null,
   "metadata": {},
   "outputs": [],
   "source": [
    "#difference between variables in the global scope vs. local scope\n",
    "\n",
    "Größe = 0\n",
    "\n",
    "def Schuh_function():\n",
    "    global Größe #if you enter \"global Größe\", you can enter the global function instead of the local function. But: bad style!!!\n",
    "    Größe = 3\n",
    "    print(Größe)\n",
    "\n",
    "Schuh_function()\n",
    "\n",
    "print(Größe)"
   ]
  },
  {
   "cell_type": "code",
   "execution_count": null,
   "metadata": {},
   "outputs": [],
   "source": [
    "MAXIMUM_MARK = 90\n",
    "\n",
    "#.2f steht für zwei Nachkommastellen / .4f steht für vier Nachkommastellen.\n",
    "tom_mark = 58\n",
    "print((\"Tom's mark is %.2f%%\" % (tom_mark / MAXIMUM_MARK * 100)) +\".\")\n",
    "# %% is how we escape a literal % inside a string"
   ]
  },
  {
   "cell_type": "code",
   "execution_count": null,
   "metadata": {},
   "outputs": [],
   "source": [
    "#Input-Funktion nutzen, um Eingaben weiterzuverarbeiten.\n",
    "height = int(input(\"Enter height of rectangle: \"))\n",
    "width = int(input(\"Enter width of rectangle: \"))\n",
    "\n",
    "print(\"The area of the rectangle is %d\" % (width * height))"
   ]
  },
  {
   "cell_type": "code",
   "execution_count": null,
   "metadata": {},
   "outputs": [],
   "source": [
    "#Input-Funktion nutzen, um Eingaben weiterzuverarbeiten.\n",
    "height = int(input(\"Enter height of rectangle: \"))\n",
    "width = int(input(\"Enter width of rectangle: \"))\n",
    "\n",
    "print(\"The area of the rectangle is %d\" % (width * height))"
   ]
  },
  {
   "cell_type": "code",
   "execution_count": null,
   "metadata": {},
   "outputs": [],
   "source": [
    "print(width)"
   ]
  },
  {
   "cell_type": "code",
   "execution_count": null,
   "metadata": {},
   "outputs": [],
   "source": [
    "PETROL_PRICE_PER_LITRE = 4.50\n",
    "print(\"*** Welcome to the fuel efficiency calculator! ***\\n\")\n",
    "name = input(\"Enter your name: \")\n",
    "distance_travelled = float(input(\"Enter distance travelled in km: \"))\n",
    "amount_paid = float(input(\"Enter monetary value of fuel bought for the trip: €\"))\n",
    "fuel_consumed = amount_paid / PETROL_PRICE_PER_LITRE\n",
    "efficiency_l_per_100_km = fuel_consumed / distance_travelled * 100\n",
    "efficiency_km_per_l = distance_travelled / fuel_consumed\n",
    "print(\"Hi, %s!\" % name)\n",
    "print(\"Your car's efficiency is %.2f litres per 100 km.\" % efficiency_l_per_100_km)\n",
    "print(\"This means that you can travel %.2f km on a litre of petrol.\" % efficiency_km_per_l)\n",
    "print(\"\\nThanks for using the program.\")"
   ]
  },
  {
   "cell_type": "code",
   "execution_count": null,
   "metadata": {},
   "outputs": [],
   "source": [
    "print('Welcome to your personal temperature check!')\n",
    "correct_input = False\n",
    "while not correct_input: \n",
    "    try:\n",
    "        T_f = float(input('Please enter the temperature in Fahrenheit: '))\n",
    "        T_c = (5/9) * T_f - 32\n",
    "        print('Converted to Celsius your temperature is: %.2f' %T_c)\n",
    "    except ValueError:\n",
    "        print('--- Please enter valid numbers. ---')\n",
    "    else:\n",
    "        correct_input = True"
   ]
  },
  {
   "cell_type": "code",
   "execution_count": null,
   "metadata": {},
   "outputs": [],
   "source": [
    "result=8.5*2 #8.5 is a float while 2 is an int.\n",
    "print(result)"
   ]
  },
  {
   "cell_type": "code",
   "execution_count": null,
   "metadata": {},
   "outputs": [],
   "source": [
    "result_2 = 8.5 + 7 // 3 - 2.5\n",
    "print(result_2)"
   ]
  },
  {
   "cell_type": "code",
   "execution_count": null,
   "metadata": {},
   "outputs": [],
   "source": [
    "import math\n",
    "i_a = math.ceil(5.834)\n",
    "i_b = math.floor(5.834)\n",
    "i_c = round(5.834)\n",
    "print(i_a)\n",
    "print(i_b)\n",
    "print(i_c)"
   ]
  },
  {
   "cell_type": "code",
   "execution_count": null,
   "metadata": {},
   "outputs": [],
   "source": [
    "float('8.8')"
   ]
  },
  {
   "cell_type": "code",
   "execution_count": null,
   "metadata": {},
   "outputs": [],
   "source": [
    "round(8.8)"
   ]
  },
  {
   "cell_type": "code",
   "execution_count": null,
   "metadata": {},
   "outputs": [],
   "source": [
    "round(float('8.8'))"
   ]
  },
  {
   "cell_type": "code",
   "execution_count": null,
   "metadata": {},
   "outputs": [],
   "source": [
    "str(8.8)"
   ]
  },
  {
   "cell_type": "code",
   "execution_count": null,
   "metadata": {},
   "outputs": [],
   "source": [
    "str(8)"
   ]
  },
  {
   "cell_type": "code",
   "execution_count": null,
   "metadata": {},
   "outputs": [],
   "source": [
    "float(8)"
   ]
  },
  {
   "cell_type": "code",
   "execution_count": null,
   "metadata": {},
   "outputs": [],
   "source": [
    "bool(8)"
   ]
  },
  {
   "cell_type": "code",
   "execution_count": null,
   "metadata": {},
   "outputs": [],
   "source": [
    "bool(8.0)"
   ]
  },
  {
   "cell_type": "code",
   "execution_count": null,
   "metadata": {},
   "outputs": [],
   "source": [
    "print('Planung für 2019:\\n')\n",
    "print('__Monat/Ort__ \\t ____Aktivität____\\t ___Finanzierung___')\n",
    "print('Jan: Hannover \\t Frei\\t \\t \\t Arbeitslosengeld')\n",
    "print('Feb: Hamburg \\t Künstliche Intelligenz\\t Eigenmittel')\n",
    "print('Mrz: Hamburg \\t Künstliche Intelligenz\\t Eigenmittel')\n",
    "print('Apr: Hamburg \\t Künstliche Intelligenz\\t Eigenmittel')\n",
    "print('Mai: Hannover \\t KI-Projekt\\t \\t Eigenmittel')\n",
    "print('Jun: Hannover \\t KI-Projekt\\t \\t Gründungszuschuss')\n",
    "print('Jul: Hannover \\t KI-Projekt / Reisen\\t Gründungszuschuss')\n",
    "print('Aug: Hannover \\t KI-Projekt / Reisen\\t Gründungszuschuss')\n",
    "print('Sep: Alpen \\t Alpendurchquerung\\t Gründungszuschuss')\n",
    "print('Okt: Shenzhen \\t Kurs: Web Development\\t Gründungszuschuss + Eigenmittel')\n",
    "print('Nov: Shenzhen \\t Kurs: Web Development\\t Gründungszuschuss + Eigenmittel')\n",
    "print('Dez: Hannover \\t Frei\\t \\t\\t Eigenmittel')\n",
    "print('\\n')\n",
    "print('__Alternativen__')\n",
    "print('1) Alternativ zu den Monaten Oktober/November, Shenzhen in China, könnte es nach Mailand gehen.')\n",
    "print('2) Auch denkbar ist, den Aufenthalt in China oder Mailand in das neue Jahr 2020 zu verschieben.\\n   Irgendwann muss ich aber auch wieder anfangen, richtiges Geld zu verdienen.\\n3) Ab Mitte des Jahres 2019 möchte ich, bei erfolgreicher Bewerbung, mit meiner Promotion starten.')"
   ]
  },
  {
   "cell_type": "code",
   "execution_count": null,
   "metadata": {},
   "outputs": [],
   "source": [
    "print('Hallo')"
   ]
  },
  {
   "cell_type": "code",
   "execution_count": null,
   "metadata": {},
   "outputs": [],
   "source": [
    "age = float(input())\n",
    "if age < 18:\n",
    "    print(\"Cannot vote.\")\n",
    "if age > 18:\n",
    "    print(\"Can vote.\")\n",
    "if age == 18:\n",
    "    print(\"Champion.\")"
   ]
  },
  {
   "cell_type": "code",
   "execution_count": 1,
   "metadata": {},
   "outputs": [
    {
     "name": "stdout",
     "output_type": "stream",
     "text": [
      "Welcome to your personal bank.\n",
      "For safety reasons, a password is required.\n",
      "Please enter your password: falsch\n",
      "\n",
      "\n",
      "Wrong answer. Self-Termination is set to 3 seconds.\n",
      "... 3\n",
      "... 2\n",
      "... 1\n",
      "\n",
      "\n",
      "Just kidding. Please try again.\n",
      "Your password:\n",
      "neuefische\n",
      "Please press \n",
      "[1] for Account or \n",
      "[2] for Transaction. \n",
      "Enter: 1\n",
      "\n",
      "\n",
      "Your balance is 1000.00 €.\n"
     ]
    }
   ],
   "source": [
    "import time\n",
    "print(\"Welcome to your personal bank.\")\n",
    "time.sleep(1)\n",
    "print(\"For safety reasons, a password is required.\")\n",
    "time.sleep(1)\n",
    "password = str(input(\"Please enter your password: \"))\n",
    "print(\"\\n\")\n",
    "time.sleep(1)\n",
    "if password == \"neuefische\":\n",
    "    customer_choice = float(input(\"Please press \\n[1] for Account or \\n[2] for Transaction. \\nEnter: \"))\n",
    "    print(\"\\n\")\n",
    "    if customer_choice == 1:\n",
    "        print(\"Your balance is 1000.00 €.\")\n",
    "    if customer_choice == 2:\n",
    "        print(\"Your transaction has been set.\")\n",
    "else:\n",
    "    print(\"Wrong answer. Self-Termination is set to 3 seconds.\")\n",
    "    time.sleep(1)\n",
    "    print(\"... 3\")\n",
    "    time.sleep(1)\n",
    "    print(\"... 2\")\n",
    "    time.sleep(1)\n",
    "    print(\"... 1\")\n",
    "    time.sleep(1)\n",
    "    print(\"\\n\")\n",
    "    print(\"Just kidding. Please try again.\\nYour password:\")\n",
    "    time.sleep(1)\n",
    "    input()\n",
    "    customer_choice_2 = float(input(\"Please press \\n[1] for Account or \\n[2] for Transaction. \\nEnter: \"))\n",
    "    print(\"\\n\")\n",
    "    if customer_choice_2 == 1:\n",
    "        print(\"Your balance is 1000.00 €.\")\n",
    "    if customer_choice_2 == 2:\n",
    "        print(\"Your transaction has been set.\")"
   ]
  },
  {
   "cell_type": "code",
   "execution_count": null,
   "metadata": {},
   "outputs": [],
   "source": [
    "a = [1,2,3]\n",
    "b = [1,2,3]\n",
    "\n",
    "if a == b:\n",
    "    print(\"These lists have the same value.\")\n",
    "\n",
    "if a is b:\n",
    "    print(\"These lists are the same list.\")"
   ]
  },
  {
   "cell_type": "code",
   "execution_count": null,
   "metadata": {},
   "outputs": [],
   "source": [
    "x = 0\n",
    "if x == 0:\n",
    "    x += 1\n",
    "    print(x)\n",
    "else:\n",
    "    x -= 1\n",
    "    print(x)"
   ]
  },
  {
   "cell_type": "code",
   "execution_count": null,
   "metadata": {},
   "outputs": [],
   "source": [
    "x = 4\n",
    "\n",
    "if x > 3:\n",
    "    print(\"This number\")\n",
    "print(\"is greater\")\n",
    "print(\"than 3.\")"
   ]
  },
  {
   "cell_type": "code",
   "execution_count": null,
   "metadata": {},
   "outputs": [],
   "source": [
    "weight = 990\n",
    "if weight <= 1000:\n",
    "    if weight <= 300:\n",
    "        cost = 5\n",
    "    else:\n",
    "        cost = 5 + 2 * round((weight - 300)/100)\n",
    "\n",
    "    print(\"Your parcel will cost R%d.\" % cost)\n",
    "\n",
    "else:\n",
    "    print(\"Maximum weight for small parcel exceeded.\")\n",
    "    print(\"Use large parcel service instead.\")"
   ]
  },
  {
   "cell_type": "code",
   "execution_count": null,
   "metadata": {},
   "outputs": [],
   "source": []
  }
 ],
 "metadata": {
  "kernelspec": {
   "display_name": "Python 3",
   "language": "python",
   "name": "python3"
  },
  "language_info": {
   "codemirror_mode": {
    "name": "ipython",
    "version": 3
   },
   "file_extension": ".py",
   "mimetype": "text/x-python",
   "name": "python",
   "nbconvert_exporter": "python",
   "pygments_lexer": "ipython3",
   "version": "3.6.8"
  }
 },
 "nbformat": 4,
 "nbformat_minor": 2
}
