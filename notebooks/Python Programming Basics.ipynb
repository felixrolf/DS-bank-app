{
 "cells": [
  {
   "cell_type": "markdown",
   "metadata": {},
   "source": [
    "# Python Programming Basics"
   ]
  },
  {
   "cell_type": "markdown",
   "metadata": {},
   "source": [
    "## Variables"
   ]
  },
  {
   "cell_type": "code",
   "execution_count": 1,
   "metadata": {},
   "outputs": [
    {
     "data": {
      "text/plain": [
       "'Variable value'"
      ]
     },
     "execution_count": 1,
     "metadata": {},
     "output_type": "execute_result"
    }
   ],
   "source": [
    "variable_name = 'Variable value'\n",
    "variable_name"
   ]
  },
  {
   "cell_type": "code",
   "execution_count": null,
   "metadata": {},
   "outputs": [
    {
     "name": "stdout",
     "output_type": "stream",
     "text": [
      "Variable value\n"
     ]
    }
   ],
   "source": [
    "print(variable_name)"
   ]
  },
  {
   "cell_type": "markdown",
   "metadata": {},
   "source": [
    "## Types\n",
    "\n",
    "https://www.programiz.com/python-programming/variables-datatypes"
   ]
  },
  {
   "cell_type": "markdown",
   "metadata": {},
   "source": [
    "### Numbers"
   ]
  },
  {
   "cell_type": "code",
   "execution_count": 2,
   "metadata": {},
   "outputs": [
    {
     "name": "stdout",
     "output_type": "stream",
     "text": [
      "5 is of type <class 'int'>\n2.0 is of type <class 'float'>\n(1+2j) is complex number? True\n"
     ]
    }
   ],
   "source": [
    "a = 5\n",
    "print(a, \"is of type\", type(a))\n",
    "\n",
    "a = 2.0\n",
    "print(a, \"is of type\", type(a))\n",
    "\n",
    "a = 1+2j\n",
    "print(a, \"is complex number?\", isinstance(a, complex))"
   ]
  },
  {
   "cell_type": "markdown",
   "metadata": {},
   "source": [
    "### Strings"
   ]
  },
  {
   "cell_type": "code",
   "execution_count": 3,
   "metadata": {},
   "outputs": [
    {
     "name": "stdout",
     "output_type": "stream",
     "text": [
      "s[4] = o\ns[6:11] = world\n12\n"
     ]
    }
   ],
   "source": [
    "s = 'Hello world!'\n",
    "\n",
    "# s[4] = 'o'\n",
    "print(\"s[4] =\", s[4])\n",
    "\n",
    "# s[6:11] = 'world'\n",
    "print(\"s[6:11] =\", s[6:11])\n",
    "\n",
    "print(len(s))\n",
    "\n",
    "# Generates error\n",
    "# Strings are immutable in Python\n",
    "# s[5] ='d'"
   ]
  },
  {
   "cell_type": "markdown",
   "metadata": {},
   "source": [
    "#### Template Strings"
   ]
  },
  {
   "cell_type": "code",
   "execution_count": 12,
   "metadata": {},
   "outputs": [
    {
     "name": "stdout",
     "output_type": "stream",
     "text": [
      "Hello, my name is Peter  and I´m a 54 year old football fan!\nHello, my name is Peter  and I´m a 54 year old football fan!\nHello Jürgen Klopp!\n"
     ]
    }
   ],
   "source": [
    "name = 'Peter '\n",
    "age=54\n",
    "hobby='football'\n",
    "\n",
    "\n",
    "print(f'Hello, my name is {name} and I´m a {age} year old {hobby} fan!')\n",
    "\n",
    "print('Hello, my name is {} and I´m a {} year old {} fan!'.format(name, age, hobby))\n",
    "\n",
    "person={'firstname':'Paul', 'lastname':'Müller', \n",
    "        'firstname':'Jürgen', 'lastname':'Klopp'}\n",
    "print('Hello {firstname} {lastname}!'.format(**person))\n"
   ]
  },
  {
   "cell_type": "markdown",
   "metadata": {},
   "source": [
    "### Lists\n",
    "\n",
    "**Important:** Python has zero based indexing"
   ]
  },
  {
   "cell_type": "code",
   "execution_count": 17,
   "metadata": {},
   "outputs": [
    {
     "name": "stdout",
     "output_type": "stream",
     "text": [
      "<class 'list'>\n['Klaus', 'Peter', 'Felix']\n3\nHallo Felix !\n"
     ]
    }
   ],
   "source": [
    "person = ['Klaus','Peter','Felix']\n",
    "print(type(person))\n",
    "print(person)\n",
    "print(len(person))\n",
    "\n",
    "# The * before person unpacks the list\n",
    "print('Hallo {} !'.format(*person[2:3]))"
   ]
  },
  {
   "cell_type": "code",
   "execution_count": 19,
   "metadata": {},
   "outputs": [
    {
     "name": "stdout",
     "output_type": "stream",
     "text": [
      "Numbers has 10 elements and a sum of 55\n"
     ]
    }
   ],
   "source": [
    "numbers = [1, 2, 3, 4, 5, 6,7,8,9,10]\n",
    "numbers_count = len(numbers)\n",
    "numbers_sum = sum(numbers)\n",
    "\n",
    "print(f'Numbers has {numbers_count} elements and a sum of {numbers_sum}')"
   ]
  },
  {
   "cell_type": "code",
   "execution_count": 48,
   "metadata": {},
   "outputs": [
    {
     "name": "stdout",
     "output_type": "stream",
     "text": [
      "[4, 9, 0, 3]\n",
      "[4, 9, 1, 3]\n"
     ]
    }
   ],
   "source": [
    "# Mutable\n",
    "a_list = [4, 9, 0, 3]\n",
    "print(a_list)\n",
    "\n",
    "a_list[2] = 1\n",
    "print(a_list)"
   ]
  },
  {
   "cell_type": "markdown",
   "metadata": {},
   "source": [
    "### Tuples\n",
    "\n",
    "Tupels sind eine besondere Art der Liste.\n",
    "\n",
    "- Immutable\n",
    "- Können als key in einem Dict benutzt werden"
   ]
  },
  {
   "cell_type": "code",
   "execution_count": 25,
   "metadata": {},
   "outputs": [
    {
     "name": "stdout",
     "output_type": "stream",
     "text": [
      "<class 'tuple'>\n('Klaus', 'Peter')\n2\nKlaus\nPeter\nHallo Klaus Peter!\n"
     ]
    }
   ],
   "source": [
    "person = ('Klaus', 'Peter')\n",
    "print(type(person))\n",
    "print(person)\n",
    "print(len(person))\n",
    "\n",
    "# Firstname\n",
    "print(person[0])\n",
    "\n",
    "# Lastname\n",
    "print(person[1])\n",
    "\n",
    "# The * before person unpacks the tuple\n",
    "print('Hallo {0} {1}!'.format(*person))\n",
    "\n",
    "# Does not work because a tuple is immutable\n",
    "# person[2] = 'Mayer'"
   ]
  },
  {
   "cell_type": "markdown",
   "metadata": {},
   "source": [
    "### Dicts"
   ]
  },
  {
   "cell_type": "code",
   "execution_count": 75,
   "metadata": {},
   "outputs": [
    {
     "name": "stdout",
     "output_type": "stream",
     "text": [
      "<class 'dict'>\n{'key': 'value', 'other_key': 'other_value'}\nHallo Klaus Peter!\n123\nKlaus\nPeter\n"
     ]
    }
   ],
   "source": [
    "a_dictionary = {\n",
    "    'key': 'value',\n",
    "    'other_key': 'other_value',\n",
    "}\n",
    "print(type(a_dictionary))\n",
    "print(a_dictionary)\n",
    "\n",
    "person = {\n",
    "    1:'123',\n",
    "    'firstname': 'Klaus',\n",
    "    'lastname': 'Peter',\n",
    "}\n",
    "\n",
    "print('Hallo {firstname} {lastname}!'.format(**person))\n",
    "\n",
    "print(person[1])\n",
    "print(person['firstname'])\n",
    "print(person['lastname'])\n",
    "\n"
   ]
  },
  {
   "cell_type": "markdown",
   "metadata": {},
   "source": [
    "## Iterables / Loops"
   ]
  },
  {
   "cell_type": "code",
   "execution_count": 39,
   "metadata": {},
   "outputs": [
    {
     "name": "stdout",
     "output_type": "stream",
     "text": [
      "4\n9\n0\n3\n\n\n0 4\n1 9\n2 0\n3 3\n"
     ]
    }
   ],
   "source": [
    "a_list = [4,9,0,3]\n",
    "\n",
    "for item in a_list:\n",
    "    print(item)\n",
    "    \n",
    "print('\\n')\n",
    "\n",
    "for index, item in enumerate(a_list):\n",
    "    print(index,item)"
   ]
  },
  {
   "cell_type": "code",
   "execution_count": 73,
   "metadata": {},
   "outputs": [
    {
     "name": "stdout",
     "output_type": "stream",
     "text": [
      "{'firstname': 'C', 'lastname': 'D'}\nfirstname C\nlastname D\n\n\nfirstname C\nlastname D\n"
     ]
    }
   ],
   "source": [
    "a_dict = {'firstname': 'Klaus', 'lastname': 'Peter',\n",
    "          'firstname': 'A', 'lastname': 'B',\n",
    "          'firstname': 'C', 'lastname': 'D',\n",
    "          }\n",
    "\n",
    "print(a_dict)\n",
    "\n",
    "for key in a_dict:\n",
    "    print(key, a_dict[key])\n",
    "\n",
    "print('\\n')\n",
    "\n",
    "# With a_dict.items()\n",
    "for key, value in a_dict.items():\n",
    "    print(key, value)"
   ]
  },
  {
   "cell_type": "markdown",
   "metadata": {},
   "source": [
    "## Functions"
   ]
  },
  {
   "cell_type": "code",
   "execution_count": 44,
   "metadata": {},
   "outputs": [
    {
     "name": "stdout",
     "output_type": "stream",
     "text": [
      "10 + 100 = 110\n"
     ]
    }
   ],
   "source": [
    "# Returns the sum\n",
    "def add(left, right):\n",
    "    return left + right\n",
    "\n",
    "result = add(10, 100)\n",
    "print(f'10 + 100 = {result}')"
   ]
  },
  {
   "cell_type": "code",
   "execution_count": 48,
   "metadata": {},
   "outputs": [
    {
     "name": "stdout",
     "output_type": "stream",
     "text": [
      "5 + 3 = 8\n"
     ]
    }
   ],
   "source": [
    "# Does not return anything but prints the result\n",
    "def add_and_print(left, right):\n",
    "    result = add(left, right)\n",
    "    print(f'{left} + {right} = {result}')\n",
    "    \n",
    "add_and_print(5, 3)"
   ]
  },
  {
   "cell_type": "markdown",
   "metadata": {},
   "source": [
    "### Positional and Keyword arguments"
   ]
  },
  {
   "cell_type": "code",
   "execution_count": 54,
   "metadata": {},
   "outputs": [
    {
     "name": "stdout",
     "output_type": "stream",
     "text": [
      "Hello Anke Rolf!\nHello Maren Rolf!\n\n\nHello John Preuß!\nHello Felix Rolf!\nCiao Werder Bremen\nEs lebe Borussia Dortmund\n"
     ]
    }
   ],
   "source": [
    "# Positional\n",
    "def say_hello_to(firstname, lastname):\n",
    "    print(f'Hello {firstname} {lastname}!')\n",
    "    \n",
    "say_hello_to('Anke', 'Rolf')\n",
    "\n",
    "def say_hello_to(*, firstname, lastname):\n",
    "    print(f'Hello {firstname} {lastname}!')\n",
    "\n",
    "say_hello_to(firstname='Maren',\n",
    "             lastname='Rolf')\n",
    "\n",
    "print('\\n')\n",
    "people = [\n",
    "    {'firstname': 'John', 'lastname': 'Preuß'},\n",
    "    {'firstname': 'Felix', 'lastname': 'Rolf'},\n",
    "]\n",
    "\n",
    "for person in people:\n",
    "    say_hello_to(**person)\n",
    "    \n",
    "\n",
    "\n",
    "def Verlierer(firstname, lastname):\n",
    "    print(f\"Ciao {firstname} {lastname}\")\n",
    "    \n",
    "Verlierer('Werder', 'Bremen')\n",
    "\n",
    "def Gewinner(firstname, lastname):\n",
    "    print(f\"Es lebe {firstname} {lastname}\")\n",
    "    \n",
    "Gewinner('Borussia', 'Dortmund')\n",
    "    \n",
    "    "
   ]
  },
  {
   "cell_type": "markdown",
   "metadata": {},
   "source": [
    "## Classes"
   ]
  },
  {
   "cell_type": "code",
   "execution_count": 68,
   "metadata": {},
   "outputs": [
    {
     "name": "stdout",
     "output_type": "stream",
     "text": [
      "Felix\n25\nPiano\nFelix is 25 old and plays the Piano :-)\nFelix is learning\nFelix is sleeping\n...all day long\nAnd he is saying <Hi> to his best friend Johnny\n"
     ]
    }
   ],
   "source": [
    "class Human:\n",
    "    def __init__(self, name, age, instrument):\n",
    "        self.name = name\n",
    "        self.age=age\n",
    "        self.instrument=instrument\n",
    "        self._state = 'idle'\n",
    "        \n",
    "    def learn(self):\n",
    "        self._state = 'learning'\n",
    "        print(f'{self.name} is learning')\n",
    "        \n",
    "    def sleep(self):\n",
    "        self._state = 'sleeping'\n",
    "        self._print_state()\n",
    "\n",
    "    def _print_state(self):\n",
    "        print(f'{self.name} is {self._state}')\n",
    "\n",
    "Human = Human('Felix',25,'Piano')\n",
    "print(Human.name)\n",
    "print(Human.age)\n",
    "print(Human.instrument)\n",
    "print(f'{Human.name} is {Human.age} old and plays the {Human.instrument} :-)')\n",
    "Human.learn()\n",
    "Human.sleep()\n",
    "print('...all day long')\n",
    "print('And he is saying <Hi> to his best friend Johnny')\n"
   ]
  },
  {
   "cell_type": "markdown",
   "metadata": {},
   "source": [
    "## Modules / Packages / Imports"
   ]
  },
  {
   "cell_type": "code",
   "execution_count": 69,
   "metadata": {},
   "outputs": [
    {
     "name": "stdout",
     "output_type": "stream",
     "text": [
      "<module 'pandas' from '/Users/felixrolf/anaconda3/envs/neue-fische-bank-app/lib/python3.6/site-packages/pandas/__init__.py'>\nEmpty DataFrame\nColumns: []\nIndex: []\n"
     ]
    }
   ],
   "source": [
    "import pandas as pd\n",
    "\n",
    "print(pd)\n",
    "print(pd.DataFrame())"
   ]
  },
  {
   "cell_type": "code",
   "execution_count": null,
   "metadata": {},
   "outputs": [],
   "source": []
  }
 ],
 "metadata": {
  "kernelspec": {
   "display_name": "Python 3",
   "language": "python",
   "name": "python3"
  },
  "language_info": {
   "codemirror_mode": {
    "name": "ipython",
    "version": 3
   },
   "file_extension": ".py",
   "mimetype": "text/x-python",
   "name": "python",
   "nbconvert_exporter": "python",
   "pygments_lexer": "ipython3",
   "version": "3.6.8"
  }
 },
 "nbformat": 4,
 "nbformat_minor": 2
}
