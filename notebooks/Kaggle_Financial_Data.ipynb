{
 "cells": [
  {
   "cell_type": "code",
   "execution_count": 1,
   "metadata": {},
   "outputs": [],
   "source": [
    "import pandas as pd"
   ]
  },
  {
   "cell_type": "code",
   "execution_count": 2,
   "metadata": {},
   "outputs": [],
   "source": [
    "df_1 = pd.read_csv('../data/bank/kaggle_financial_payment_1.csv')\n",
    "df_2 = pd.read_csv('../data/bank/kaggle_financial_payment_2.csv')"
   ]
  },
  {
   "cell_type": "code",
   "execution_count": 3,
   "metadata": {},
   "outputs": [
    {
     "name": "stdout",
     "output_type": "stream",
     "text": [
      "<class 'pandas.core.frame.DataFrame'>\n",
      "RangeIndex: 594643 entries, 0 to 594642\n",
      "Data columns (total 10 columns):\n",
      "step           594643 non-null int64\n",
      "customer       594643 non-null object\n",
      "age            594643 non-null object\n",
      "gender         594643 non-null object\n",
      "zipcodeOri     594643 non-null object\n",
      "merchant       594643 non-null object\n",
      "zipMerchant    594643 non-null object\n",
      "category       594643 non-null object\n",
      "amount         594643 non-null float64\n",
      "fraud          594643 non-null int64\n",
      "dtypes: float64(1), int64(2), object(7)\n",
      "memory usage: 45.4+ MB\n"
     ]
    }
   ],
   "source": [
    "df_1.info()"
   ]
  },
  {
   "cell_type": "code",
   "execution_count": 4,
   "metadata": {},
   "outputs": [
    {
     "data": {
      "text/html": [
       "<div>\n",
       "<style scoped>\n",
       "    .dataframe tbody tr th:only-of-type {\n",
       "        vertical-align: middle;\n",
       "    }\n",
       "\n",
       "    .dataframe tbody tr th {\n",
       "        vertical-align: top;\n",
       "    }\n",
       "\n",
       "    .dataframe thead th {\n",
       "        text-align: right;\n",
       "    }\n",
       "</style>\n",
       "<table border=\"1\" class=\"dataframe\">\n",
       "  <thead>\n",
       "    <tr style=\"text-align: right;\">\n",
       "      <th></th>\n",
       "      <th>age</th>\n",
       "      <th>gender</th>\n",
       "      <th>category</th>\n",
       "      <th>amount</th>\n",
       "      <th>fraud</th>\n",
       "    </tr>\n",
       "  </thead>\n",
       "  <tbody>\n",
       "    <tr>\n",
       "      <th>0</th>\n",
       "      <td>'4'</td>\n",
       "      <td>'M'</td>\n",
       "      <td>'es_transportation'</td>\n",
       "      <td>4.55</td>\n",
       "      <td>0</td>\n",
       "    </tr>\n",
       "    <tr>\n",
       "      <th>1</th>\n",
       "      <td>'2'</td>\n",
       "      <td>'M'</td>\n",
       "      <td>'es_transportation'</td>\n",
       "      <td>39.68</td>\n",
       "      <td>0</td>\n",
       "    </tr>\n",
       "    <tr>\n",
       "      <th>2</th>\n",
       "      <td>'4'</td>\n",
       "      <td>'F'</td>\n",
       "      <td>'es_transportation'</td>\n",
       "      <td>26.89</td>\n",
       "      <td>0</td>\n",
       "    </tr>\n",
       "    <tr>\n",
       "      <th>3</th>\n",
       "      <td>'3'</td>\n",
       "      <td>'M'</td>\n",
       "      <td>'es_transportation'</td>\n",
       "      <td>17.25</td>\n",
       "      <td>0</td>\n",
       "    </tr>\n",
       "    <tr>\n",
       "      <th>4</th>\n",
       "      <td>'5'</td>\n",
       "      <td>'M'</td>\n",
       "      <td>'es_transportation'</td>\n",
       "      <td>35.72</td>\n",
       "      <td>0</td>\n",
       "    </tr>\n",
       "  </tbody>\n",
       "</table>\n",
       "</div>"
      ],
      "text/plain": [
       "   age gender             category  amount  fraud\n",
       "0  '4'    'M'  'es_transportation'    4.55      0\n",
       "1  '2'    'M'  'es_transportation'   39.68      0\n",
       "2  '4'    'F'  'es_transportation'   26.89      0\n",
       "3  '3'    'M'  'es_transportation'   17.25      0\n",
       "4  '5'    'M'  'es_transportation'   35.72      0"
      ]
     },
     "execution_count": 4,
     "metadata": {},
     "output_type": "execute_result"
    }
   ],
   "source": [
    "columns_to_drop = [\"step\", \"customer\", \"zipMerchant\", \"merchant\", \"zipcodeOri\"]\n",
    "df_1b = df_1.drop(columns=columns_to_drop)\n",
    "df_1b.head()"
   ]
  },
  {
   "cell_type": "code",
   "execution_count": 5,
   "metadata": {},
   "outputs": [
    {
     "data": {
      "text/html": [
       "<div>\n",
       "<style scoped>\n",
       "    .dataframe tbody tr th:only-of-type {\n",
       "        vertical-align: middle;\n",
       "    }\n",
       "\n",
       "    .dataframe tbody tr th {\n",
       "        vertical-align: top;\n",
       "    }\n",
       "\n",
       "    .dataframe thead th {\n",
       "        text-align: right;\n",
       "    }\n",
       "</style>\n",
       "<table border=\"1\" class=\"dataframe\">\n",
       "  <thead>\n",
       "    <tr style=\"text-align: right;\">\n",
       "      <th></th>\n",
       "      <th>age</th>\n",
       "      <th>gender</th>\n",
       "      <th>category</th>\n",
       "      <th>amount</th>\n",
       "      <th>fraud</th>\n",
       "    </tr>\n",
       "  </thead>\n",
       "  <tbody>\n",
       "    <tr>\n",
       "      <th>0</th>\n",
       "      <td>'4'</td>\n",
       "      <td>'M'</td>\n",
       "      <td>12</td>\n",
       "      <td>4.55</td>\n",
       "      <td>0</td>\n",
       "    </tr>\n",
       "    <tr>\n",
       "      <th>1</th>\n",
       "      <td>'2'</td>\n",
       "      <td>'M'</td>\n",
       "      <td>12</td>\n",
       "      <td>39.68</td>\n",
       "      <td>0</td>\n",
       "    </tr>\n",
       "    <tr>\n",
       "      <th>2</th>\n",
       "      <td>'4'</td>\n",
       "      <td>'F'</td>\n",
       "      <td>12</td>\n",
       "      <td>26.89</td>\n",
       "      <td>0</td>\n",
       "    </tr>\n",
       "    <tr>\n",
       "      <th>3</th>\n",
       "      <td>'3'</td>\n",
       "      <td>'M'</td>\n",
       "      <td>12</td>\n",
       "      <td>17.25</td>\n",
       "      <td>0</td>\n",
       "    </tr>\n",
       "    <tr>\n",
       "      <th>4</th>\n",
       "      <td>'5'</td>\n",
       "      <td>'M'</td>\n",
       "      <td>12</td>\n",
       "      <td>35.72</td>\n",
       "      <td>0</td>\n",
       "    </tr>\n",
       "  </tbody>\n",
       "</table>\n",
       "</div>"
      ],
      "text/plain": [
       "   age gender category  amount  fraud\n",
       "0  '4'    'M'       12    4.55      0\n",
       "1  '2'    'M'       12   39.68      0\n",
       "2  '4'    'F'       12   26.89      0\n",
       "3  '3'    'M'       12   17.25      0\n",
       "4  '5'    'M'       12   35.72      0"
      ]
     },
     "execution_count": 5,
     "metadata": {},
     "output_type": "execute_result"
    }
   ],
   "source": [
    "category_mapping = {\n",
    "    \"'es_barsandrestaurants'\": 1,\n",
    "    \"'es_contents'\": 2,\n",
    "    \"'es_fashion'\": 3,\n",
    "    \"'es_food'\": 4,\n",
    "    \"'es_health'\": 5,\n",
    "    \"'es_home'\": 6,\n",
    "    \"'es_hotelservices'\": 7,\n",
    "    \"'es_hyper'\": 8,\n",
    "    \"'es_otherservices'\": 9,\n",
    "    \"'es_sportsandtoys'\": 10,\n",
    "    \"'es_tech'\": 11,\n",
    "    \"'es_transportation'\": 12,\n",
    "    \"'es_travel'\": 13,\n",
    "    \"'es_wellnessandbeauty'\": 14,\n",
    "}\n",
    "df_1c = df_1b.replace({'category': category_mapping})\n",
    "df_1c.head()"
   ]
  },
  {
   "cell_type": "code",
   "execution_count": 6,
   "metadata": {},
   "outputs": [
    {
     "data": {
      "text/html": [
       "<div>\n",
       "<style scoped>\n",
       "    .dataframe tbody tr th:only-of-type {\n",
       "        vertical-align: middle;\n",
       "    }\n",
       "\n",
       "    .dataframe tbody tr th {\n",
       "        vertical-align: top;\n",
       "    }\n",
       "\n",
       "    .dataframe thead th {\n",
       "        text-align: right;\n",
       "    }\n",
       "</style>\n",
       "<table border=\"1\" class=\"dataframe\">\n",
       "  <thead>\n",
       "    <tr style=\"text-align: right;\">\n",
       "      <th></th>\n",
       "      <th>age</th>\n",
       "      <th>gender</th>\n",
       "      <th>category</th>\n",
       "      <th>amount</th>\n",
       "      <th>fraud</th>\n",
       "    </tr>\n",
       "  </thead>\n",
       "  <tbody>\n",
       "    <tr>\n",
       "      <th>0</th>\n",
       "      <td>'4'</td>\n",
       "      <td>1</td>\n",
       "      <td>12</td>\n",
       "      <td>4.55</td>\n",
       "      <td>0</td>\n",
       "    </tr>\n",
       "    <tr>\n",
       "      <th>1</th>\n",
       "      <td>'2'</td>\n",
       "      <td>1</td>\n",
       "      <td>12</td>\n",
       "      <td>39.68</td>\n",
       "      <td>0</td>\n",
       "    </tr>\n",
       "    <tr>\n",
       "      <th>2</th>\n",
       "      <td>'4'</td>\n",
       "      <td>2</td>\n",
       "      <td>12</td>\n",
       "      <td>26.89</td>\n",
       "      <td>0</td>\n",
       "    </tr>\n",
       "    <tr>\n",
       "      <th>3</th>\n",
       "      <td>'3'</td>\n",
       "      <td>1</td>\n",
       "      <td>12</td>\n",
       "      <td>17.25</td>\n",
       "      <td>0</td>\n",
       "    </tr>\n",
       "    <tr>\n",
       "      <th>4</th>\n",
       "      <td>'5'</td>\n",
       "      <td>1</td>\n",
       "      <td>12</td>\n",
       "      <td>35.72</td>\n",
       "      <td>0</td>\n",
       "    </tr>\n",
       "  </tbody>\n",
       "</table>\n",
       "</div>"
      ],
      "text/plain": [
       "   age  gender category  amount  fraud\n",
       "0  '4'       1       12    4.55      0\n",
       "1  '2'       1       12   39.68      0\n",
       "2  '4'       2       12   26.89      0\n",
       "3  '3'       1       12   17.25      0\n",
       "4  '5'       1       12   35.72      0"
      ]
     },
     "execution_count": 6,
     "metadata": {},
     "output_type": "execute_result"
    }
   ],
   "source": [
    "gender_mapping = {\n",
    "    \"'M'\": 1,\n",
    "    \"'F'\": 2,\n",
    "    \"'U'\": 3,\n",
    "    \"'E'\": 4,\n",
    "}\n",
    "df_1d = df_1c.replace({'gender': gender_mapping})\n",
    "df_1d.head()"
   ]
  },
  {
   "cell_type": "code",
   "execution_count": 7,
   "metadata": {},
   "outputs": [
    {
     "data": {
      "text/html": [
       "<div>\n",
       "<style scoped>\n",
       "    .dataframe tbody tr th:only-of-type {\n",
       "        vertical-align: middle;\n",
       "    }\n",
       "\n",
       "    .dataframe tbody tr th {\n",
       "        vertical-align: top;\n",
       "    }\n",
       "\n",
       "    .dataframe thead th {\n",
       "        text-align: right;\n",
       "    }\n",
       "</style>\n",
       "<table border=\"1\" class=\"dataframe\">\n",
       "  <thead>\n",
       "    <tr style=\"text-align: right;\">\n",
       "      <th></th>\n",
       "      <th>age</th>\n",
       "      <th>gender</th>\n",
       "      <th>category</th>\n",
       "      <th>amount</th>\n",
       "      <th>fraud</th>\n",
       "    </tr>\n",
       "  </thead>\n",
       "  <tbody>\n",
       "    <tr>\n",
       "      <th>0</th>\n",
       "      <td>4</td>\n",
       "      <td>1</td>\n",
       "      <td>12</td>\n",
       "      <td>4.55</td>\n",
       "      <td>0</td>\n",
       "    </tr>\n",
       "    <tr>\n",
       "      <th>1</th>\n",
       "      <td>2</td>\n",
       "      <td>1</td>\n",
       "      <td>12</td>\n",
       "      <td>39.68</td>\n",
       "      <td>0</td>\n",
       "    </tr>\n",
       "    <tr>\n",
       "      <th>2</th>\n",
       "      <td>4</td>\n",
       "      <td>2</td>\n",
       "      <td>12</td>\n",
       "      <td>26.89</td>\n",
       "      <td>0</td>\n",
       "    </tr>\n",
       "    <tr>\n",
       "      <th>3</th>\n",
       "      <td>3</td>\n",
       "      <td>1</td>\n",
       "      <td>12</td>\n",
       "      <td>17.25</td>\n",
       "      <td>0</td>\n",
       "    </tr>\n",
       "    <tr>\n",
       "      <th>4</th>\n",
       "      <td>5</td>\n",
       "      <td>1</td>\n",
       "      <td>12</td>\n",
       "      <td>35.72</td>\n",
       "      <td>0</td>\n",
       "    </tr>\n",
       "  </tbody>\n",
       "</table>\n",
       "</div>"
      ],
      "text/plain": [
       "   age  gender category  amount  fraud\n",
       "0    4       1       12    4.55      0\n",
       "1    2       1       12   39.68      0\n",
       "2    4       2       12   26.89      0\n",
       "3    3       1       12   17.25      0\n",
       "4    5       1       12   35.72      0"
      ]
     },
     "execution_count": 7,
     "metadata": {},
     "output_type": "execute_result"
    }
   ],
   "source": [
    "age_mapping = {\n",
    "    \"'0'\": 0,\n",
    "    \"'1'\": 1,\n",
    "    \"'2'\": 2,\n",
    "    \"'3'\": 3,\n",
    "    \"'4'\": 4,\n",
    "    \"'5'\": 5,\n",
    "    \"'6'\": 6,\n",
    "    \"'U'\": 7,\n",
    "}\n",
    "df_1e = df_1d.replace({'age': age_mapping})\n",
    "df_1e.head()"
   ]
  },
  {
   "cell_type": "code",
   "execution_count": 9,
   "metadata": {},
   "outputs": [
    {
     "data": {
      "text/html": [
       "<style  type=\"text/css\" >\n",
       "    #T_95e4a278_2eb5_11e9_8ca0_f018984f2aa9row0_col0 {\n",
       "            background-color:  #023858;\n",
       "            color:  #f1f1f1;\n",
       "        }    #T_95e4a278_2eb5_11e9_8ca0_f018984f2aa9row0_col1 {\n",
       "            background-color:  #fff7fb;\n",
       "            color:  #000000;\n",
       "        }    #T_95e4a278_2eb5_11e9_8ca0_f018984f2aa9row0_col2 {\n",
       "            background-color:  #fff7fb;\n",
       "            color:  #000000;\n",
       "        }    #T_95e4a278_2eb5_11e9_8ca0_f018984f2aa9row0_col3 {\n",
       "            background-color:  #fff7fb;\n",
       "            color:  #000000;\n",
       "        }    #T_95e4a278_2eb5_11e9_8ca0_f018984f2aa9row1_col0 {\n",
       "            background-color:  #fef6fb;\n",
       "            color:  #000000;\n",
       "        }    #T_95e4a278_2eb5_11e9_8ca0_f018984f2aa9row1_col1 {\n",
       "            background-color:  #023858;\n",
       "            color:  #f1f1f1;\n",
       "        }    #T_95e4a278_2eb5_11e9_8ca0_f018984f2aa9row1_col2 {\n",
       "            background-color:  #fdf5fa;\n",
       "            color:  #000000;\n",
       "        }    #T_95e4a278_2eb5_11e9_8ca0_f018984f2aa9row1_col3 {\n",
       "            background-color:  #fbf3f9;\n",
       "            color:  #000000;\n",
       "        }    #T_95e4a278_2eb5_11e9_8ca0_f018984f2aa9row2_col0 {\n",
       "            background-color:  #fff7fb;\n",
       "            color:  #000000;\n",
       "        }    #T_95e4a278_2eb5_11e9_8ca0_f018984f2aa9row2_col1 {\n",
       "            background-color:  #fef6fa;\n",
       "            color:  #000000;\n",
       "        }    #T_95e4a278_2eb5_11e9_8ca0_f018984f2aa9row2_col2 {\n",
       "            background-color:  #023858;\n",
       "            color:  #f1f1f1;\n",
       "        }    #T_95e4a278_2eb5_11e9_8ca0_f018984f2aa9row2_col3 {\n",
       "            background-color:  #78abd0;\n",
       "            color:  #000000;\n",
       "        }    #T_95e4a278_2eb5_11e9_8ca0_f018984f2aa9row3_col0 {\n",
       "            background-color:  #fff7fb;\n",
       "            color:  #000000;\n",
       "        }    #T_95e4a278_2eb5_11e9_8ca0_f018984f2aa9row3_col1 {\n",
       "            background-color:  #fcf4fa;\n",
       "            color:  #000000;\n",
       "        }    #T_95e4a278_2eb5_11e9_8ca0_f018984f2aa9row3_col2 {\n",
       "            background-color:  #78abd0;\n",
       "            color:  #000000;\n",
       "        }    #T_95e4a278_2eb5_11e9_8ca0_f018984f2aa9row3_col3 {\n",
       "            background-color:  #023858;\n",
       "            color:  #f1f1f1;\n",
       "        }</style><table id=\"T_95e4a278_2eb5_11e9_8ca0_f018984f2aa9\" ><thead>    <tr>        <th class=\"blank level0\" ></th>        <th class=\"col_heading level0 col0\" >age</th>        <th class=\"col_heading level0 col1\" >gender</th>        <th class=\"col_heading level0 col2\" >amount</th>        <th class=\"col_heading level0 col3\" >fraud</th>    </tr></thead><tbody>\n",
       "                <tr>\n",
       "                        <th id=\"T_95e4a278_2eb5_11e9_8ca0_f018984f2aa9level0_row0\" class=\"row_heading level0 row0\" >age</th>\n",
       "                        <td id=\"T_95e4a278_2eb5_11e9_8ca0_f018984f2aa9row0_col0\" class=\"data row0 col0\" >1</td>\n",
       "                        <td id=\"T_95e4a278_2eb5_11e9_8ca0_f018984f2aa9row0_col1\" class=\"data row0 col1\" >0.00272748</td>\n",
       "                        <td id=\"T_95e4a278_2eb5_11e9_8ca0_f018984f2aa9row0_col2\" class=\"data row0 col2\" >-0.0039295</td>\n",
       "                        <td id=\"T_95e4a278_2eb5_11e9_8ca0_f018984f2aa9row0_col3\" class=\"data row0 col3\" >-0.00431505</td>\n",
       "            </tr>\n",
       "            <tr>\n",
       "                        <th id=\"T_95e4a278_2eb5_11e9_8ca0_f018984f2aa9level0_row1\" class=\"row_heading level0 row1\" >gender</th>\n",
       "                        <td id=\"T_95e4a278_2eb5_11e9_8ca0_f018984f2aa9row1_col0\" class=\"data row1 col0\" >0.00272748</td>\n",
       "                        <td id=\"T_95e4a278_2eb5_11e9_8ca0_f018984f2aa9row1_col1\" class=\"data row1 col1\" >1</td>\n",
       "                        <td id=\"T_95e4a278_2eb5_11e9_8ca0_f018984f2aa9row1_col2\" class=\"data row1 col2\" >0.0123667</td>\n",
       "                        <td id=\"T_95e4a278_2eb5_11e9_8ca0_f018984f2aa9row1_col3\" class=\"data row1 col3\" >0.0239047</td>\n",
       "            </tr>\n",
       "            <tr>\n",
       "                        <th id=\"T_95e4a278_2eb5_11e9_8ca0_f018984f2aa9level0_row2\" class=\"row_heading level0 row2\" >amount</th>\n",
       "                        <td id=\"T_95e4a278_2eb5_11e9_8ca0_f018984f2aa9row2_col0\" class=\"data row2 col0\" >-0.0039295</td>\n",
       "                        <td id=\"T_95e4a278_2eb5_11e9_8ca0_f018984f2aa9row2_col1\" class=\"data row2 col1\" >0.0123667</td>\n",
       "                        <td id=\"T_95e4a278_2eb5_11e9_8ca0_f018984f2aa9row2_col2\" class=\"data row2 col2\" >1</td>\n",
       "                        <td id=\"T_95e4a278_2eb5_11e9_8ca0_f018984f2aa9row2_col3\" class=\"data row2 col3\" >0.489967</td>\n",
       "            </tr>\n",
       "            <tr>\n",
       "                        <th id=\"T_95e4a278_2eb5_11e9_8ca0_f018984f2aa9level0_row3\" class=\"row_heading level0 row3\" >fraud</th>\n",
       "                        <td id=\"T_95e4a278_2eb5_11e9_8ca0_f018984f2aa9row3_col0\" class=\"data row3 col0\" >-0.00431505</td>\n",
       "                        <td id=\"T_95e4a278_2eb5_11e9_8ca0_f018984f2aa9row3_col1\" class=\"data row3 col1\" >0.0239047</td>\n",
       "                        <td id=\"T_95e4a278_2eb5_11e9_8ca0_f018984f2aa9row3_col2\" class=\"data row3 col2\" >0.489967</td>\n",
       "                        <td id=\"T_95e4a278_2eb5_11e9_8ca0_f018984f2aa9row3_col3\" class=\"data row3 col3\" >1</td>\n",
       "            </tr>\n",
       "    </tbody></table>"
      ],
      "text/plain": [
       "<pandas.io.formats.style.Styler at 0x116204908>"
      ]
     },
     "execution_count": 9,
     "metadata": {},
     "output_type": "execute_result"
    }
   ],
   "source": [
    "import pandas as pd\n",
    "import numpy as np\n",
    "\n",
    "corr = df_1e.corr()\n",
    "corr.style.background_gradient()"
   ]
  },
  {
   "cell_type": "code",
   "execution_count": null,
   "metadata": {},
   "outputs": [],
   "source": [
    "df_1b['male_gender'] = 0\n",
    "df_1b['female_gender'] = 0\n",
    "df_1b.loc[df_1['gender']==\"'M'\", 'male_gender'] = 1\n",
    "df_1b.loc[df_1['gender']==\"'F'\", 'female_gender'] = 1\n",
    "df_1b.head()"
   ]
  },
  {
   "cell_type": "code",
   "execution_count": null,
   "metadata": {},
   "outputs": [],
   "source": [
    "columns_to_drop = [\"gender\"]\n",
    "df_1c = df_1b.drop(columns=columns_to_drop)\n",
    "df_1c.head()"
   ]
  },
  {
   "cell_type": "code",
   "execution_count": null,
   "metadata": {},
   "outputs": [],
   "source": [
    "df_1c['cat_1'] = 0\n",
    "df_1c.head()"
   ]
  },
  {
   "cell_type": "code",
   "execution_count": null,
   "metadata": {},
   "outputs": [],
   "source": [
    "df_1c.loc[df_1['category']==\"'es_barsandrestaurants'\", 'cat_1'] = 1\n",
    "df_1c.loc[df_1c['category']==\"'es_barsandrestaurants'\"].head()"
   ]
  },
  {
   "cell_type": "code",
   "execution_count": null,
   "metadata": {},
   "outputs": [],
   "source": [
    "df_1.groupby('gender').agg({'fraud': 'sum'})"
   ]
  },
  {
   "cell_type": "code",
   "execution_count": 10,
   "metadata": {},
   "outputs": [
    {
     "data": {
      "text/html": [
       "<div>\n",
       "<style scoped>\n",
       "    .dataframe tbody tr th:only-of-type {\n",
       "        vertical-align: middle;\n",
       "    }\n",
       "\n",
       "    .dataframe tbody tr th {\n",
       "        vertical-align: top;\n",
       "    }\n",
       "\n",
       "    .dataframe thead th {\n",
       "        text-align: right;\n",
       "    }\n",
       "</style>\n",
       "<table border=\"1\" class=\"dataframe\">\n",
       "  <thead>\n",
       "    <tr style=\"text-align: right;\">\n",
       "      <th></th>\n",
       "      <th>fraud</th>\n",
       "    </tr>\n",
       "    <tr>\n",
       "      <th>category</th>\n",
       "      <th></th>\n",
       "    </tr>\n",
       "  </thead>\n",
       "  <tbody>\n",
       "    <tr>\n",
       "      <th>'es_barsandrestaurants'</th>\n",
       "      <td>120</td>\n",
       "    </tr>\n",
       "    <tr>\n",
       "      <th>'es_contents'</th>\n",
       "      <td>0</td>\n",
       "    </tr>\n",
       "    <tr>\n",
       "      <th>'es_fashion'</th>\n",
       "      <td>116</td>\n",
       "    </tr>\n",
       "    <tr>\n",
       "      <th>'es_food'</th>\n",
       "      <td>0</td>\n",
       "    </tr>\n",
       "    <tr>\n",
       "      <th>'es_health'</th>\n",
       "      <td>1696</td>\n",
       "    </tr>\n",
       "    <tr>\n",
       "      <th>'es_home'</th>\n",
       "      <td>302</td>\n",
       "    </tr>\n",
       "    <tr>\n",
       "      <th>'es_hotelservices'</th>\n",
       "      <td>548</td>\n",
       "    </tr>\n",
       "    <tr>\n",
       "      <th>'es_hyper'</th>\n",
       "      <td>280</td>\n",
       "    </tr>\n",
       "    <tr>\n",
       "      <th>'es_leisure'</th>\n",
       "      <td>474</td>\n",
       "    </tr>\n",
       "    <tr>\n",
       "      <th>'es_otherservices'</th>\n",
       "      <td>228</td>\n",
       "    </tr>\n",
       "    <tr>\n",
       "      <th>'es_sportsandtoys'</th>\n",
       "      <td>1982</td>\n",
       "    </tr>\n",
       "    <tr>\n",
       "      <th>'es_tech'</th>\n",
       "      <td>158</td>\n",
       "    </tr>\n",
       "    <tr>\n",
       "      <th>'es_transportation'</th>\n",
       "      <td>0</td>\n",
       "    </tr>\n",
       "    <tr>\n",
       "      <th>'es_travel'</th>\n",
       "      <td>578</td>\n",
       "    </tr>\n",
       "    <tr>\n",
       "      <th>'es_wellnessandbeauty'</th>\n",
       "      <td>718</td>\n",
       "    </tr>\n",
       "  </tbody>\n",
       "</table>\n",
       "</div>"
      ],
      "text/plain": [
       "                         fraud\n",
       "category                      \n",
       "'es_barsandrestaurants'    120\n",
       "'es_contents'                0\n",
       "'es_fashion'               116\n",
       "'es_food'                    0\n",
       "'es_health'               1696\n",
       "'es_home'                  302\n",
       "'es_hotelservices'         548\n",
       "'es_hyper'                 280\n",
       "'es_leisure'               474\n",
       "'es_otherservices'         228\n",
       "'es_sportsandtoys'        1982\n",
       "'es_tech'                  158\n",
       "'es_transportation'          0\n",
       "'es_travel'                578\n",
       "'es_wellnessandbeauty'     718"
      ]
     },
     "execution_count": 10,
     "metadata": {},
     "output_type": "execute_result"
    }
   ],
   "source": [
    "df_1.groupby('category').agg({'fraud': 'sum'})"
   ]
  },
  {
   "cell_type": "code",
   "execution_count": null,
   "metadata": {},
   "outputs": [],
   "source": [
    "df_1.groupby('age').agg({'fraud': 'sum'})"
   ]
  },
  {
   "cell_type": "code",
   "execution_count": null,
   "metadata": {},
   "outputs": [],
   "source": [
    "df_1.groupby('age').agg({'fraud': 'count'})"
   ]
  },
  {
   "cell_type": "code",
   "execution_count": null,
   "metadata": {},
   "outputs": [],
   "source": [
    "df_1.groupby('age').agg({'amount': 'count'})"
   ]
  },
  {
   "cell_type": "code",
   "execution_count": null,
   "metadata": {},
   "outputs": [],
   "source": [
    "df_1.loc[df_1['fraud'] == 1]"
   ]
  },
  {
   "cell_type": "code",
   "execution_count": null,
   "metadata": {},
   "outputs": [],
   "source": [
    "df_1.groupby('gender').agg({'gender': 'count'})"
   ]
  },
  {
   "cell_type": "code",
   "execution_count": null,
   "metadata": {},
   "outputs": [],
   "source": [
    "df_1.groupby('gender').agg({'age': 'count'})"
   ]
  },
  {
   "cell_type": "code",
   "execution_count": null,
   "metadata": {},
   "outputs": [],
   "source": [
    "df_1.groupby('gender').agg({'amount': 'count'})"
   ]
  },
  {
   "cell_type": "code",
   "execution_count": null,
   "metadata": {},
   "outputs": [],
   "source": []
  },
  {
   "cell_type": "code",
   "execution_count": null,
   "metadata": {},
   "outputs": [],
   "source": []
  },
  {
   "cell_type": "code",
   "execution_count": null,
   "metadata": {
    "scrolled": true
   },
   "outputs": [],
   "source": [
    "df_1['male_gender'] = 0\n",
    "df_1.head()"
   ]
  },
  {
   "cell_type": "code",
   "execution_count": null,
   "metadata": {},
   "outputs": [],
   "source": [
    "df_1.loc[df_1['gender']==\"'M'\", 'male_gender'] = 1"
   ]
  },
  {
   "cell_type": "code",
   "execution_count": null,
   "metadata": {},
   "outputs": [],
   "source": [
    "df_1.head()"
   ]
  },
  {
   "cell_type": "markdown",
   "metadata": {},
   "source": [
    "df_1.head()"
   ]
  },
  {
   "cell_type": "code",
   "execution_count": null,
   "metadata": {},
   "outputs": [],
   "source": [
    "columns_to_drop = [\"step\", \"customer\", \"age\", \"gender\", \"amount\", \"category\", \"zipMerchant\", \"merchant\", \"zipcodeOri\"]\n",
    "df_1b = df_1.drop(columns=columns_to_drop)\n",
    "df_1b.head()"
   ]
  },
  {
   "cell_type": "code",
   "execution_count": null,
   "metadata": {},
   "outputs": [],
   "source": [
    "import numpy as np\n",
    "male_gender_fraud = lambda a, b: np.minimum(a, b).sum().round(decimals=1)\n",
    "df_1b.corr(method=male_gender_fraud)"
   ]
  },
  {
   "cell_type": "code",
   "execution_count": null,
   "metadata": {},
   "outputs": [],
   "source": [
    "import matplotlib.pyplot as plt\n",
    "\n",
    "plt.matshow(df_1b.corr())"
   ]
  },
  {
   "cell_type": "code",
   "execution_count": null,
   "metadata": {},
   "outputs": [],
   "source": [
    "import pandas as pd\n",
    "import numpy as np\n",
    "\n",
    "corr = df_1.corr()\n",
    "corr.style.background_gradient()"
   ]
  },
  {
   "cell_type": "code",
   "execution_count": null,
   "metadata": {},
   "outputs": [],
   "source": []
  },
  {
   "cell_type": "code",
   "execution_count": null,
   "metadata": {},
   "outputs": [],
   "source": []
  }
 ],
 "metadata": {
  "kernelspec": {
   "display_name": "Python 3",
   "language": "python",
   "name": "python3"
  },
  "language_info": {
   "codemirror_mode": {
    "name": "ipython",
    "version": 3
   },
   "file_extension": ".py",
   "mimetype": "text/x-python",
   "name": "python",
   "nbconvert_exporter": "python",
   "pygments_lexer": "ipython3",
   "version": "3.6.8"
  }
 },
 "nbformat": 4,
 "nbformat_minor": 2
}
